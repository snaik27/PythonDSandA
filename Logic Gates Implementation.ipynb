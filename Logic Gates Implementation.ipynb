{
 "cells": [
  {
   "cell_type": "code",
   "execution_count": 1,
   "metadata": {
    "collapsed": true
   },
   "outputs": [],
   "source": [
    "#Inheritance is the ability for one class to be related to another. \n",
    "#Person --> Employee --> Teacher\n",
    "#Person --> Employee --> Janitor\n",
    "#Called 'subclasses' and 'superclasses' \n",
    "#Checkout OneNote notebook on Python. Inheritance page to see example\n",
    "#of how lists/strings/tuples/dictionaries are related \n",
    "#Child classes distinguish themselves from parents by adding additional\n",
    "#characteristcs"
   ]
  },
  {
   "cell_type": "code",
   "execution_count": 2,
   "metadata": {
    "collapsed": true
   },
   "outputs": [],
   "source": [
    "#Logic Gate example to show Inheritance(look at onenote for diagram):\n",
    "class LogicGate:\n",
    "    \n",
    "    def __init__(self,n):\n",
    "        self.label = n\n",
    "        self.output = None\n",
    "    \n",
    "    def getLabel(self):\n",
    "        return self.label\n",
    "    \n",
    "    def getOutput(self):\n",
    "        #We haven't implemented the performGateLogic() method yet bc\n",
    "        #we want to let each gate perform its own logic operation. \n",
    "        #Super powerful idea in object-oriented programming. We're \n",
    "        #writing a method that will use code that doesn't exist yet.\n",
    "        self.output = self.performGateLogic()\n",
    "        return self.output "
   ]
  },
  {
   "cell_type": "code",
   "execution_count": 3,
   "metadata": {
    "collapsed": true
   },
   "outputs": [],
   "source": [
    "#We now write the class for Binary gates (DOES NOT HAVE TO BE AND/OR)\n",
    "class BinaryGate(LogicGate): #child classes take in parent\n",
    "    \n",
    "    def __init__(self,n): #constructs n binary gates using LogicGate init\n",
    "        LogicGate.__init__(self,n)\n",
    "        \n",
    "        self.pinA = None\n",
    "        self.pinB = None\n",
    "        \n",
    "    def getPinA(self):\n",
    "        if self.pinA == None: #manual input\n",
    "            return int(input(\"Enter Pin A input for gate \" + self.getLabel() + \"-->\"))\n",
    "        else: #else get pin from one(or other) connector's FromGate!\n",
    "            return self.pinA.getFrom().getOutput()\n",
    "    \n",
    "    def getPinB(self):\n",
    "        if self.pinB == None:\n",
    "            return int(input(\"Enter Pin B input for gate \" + self.getLabel() + \"-->\"))\n",
    "        else:\n",
    "            return self.pinB.getFrom().getOutput()\n",
    "    \n",
    "    def setNextPin(self,source): #new binarygate pin set by source output\n",
    "        if self.pinA == None:\n",
    "            self.pinA = source\n",
    "        else:\n",
    "            if self.pinB == None:\n",
    "                self.pinB = source\n",
    "            else:\n",
    "                raise RuntimeError(\"Error: No Empty Pins\")\n",
    "    "
   ]
  },
  {
   "cell_type": "code",
   "execution_count": 4,
   "metadata": {
    "collapsed": true
   },
   "outputs": [],
   "source": [
    "#We note write the class for Unary gates\n",
    "class UnaryGate(LogicGate):\n",
    "    \n",
    "    def __init__(self,n): #constructs n unary gates using LogicGate init\n",
    "        LogicGate.__init__(self,n)\n",
    "        \n",
    "        self.pin = None\n",
    "        \n",
    "    def getPin(self):\n",
    "        if self.pin == None:\n",
    "            return int(input(\"Enter Pin input for gate\" + self.getLabel() + \"-->\"))\n",
    "        else:\n",
    "            return self.pin.getFrom().getOutput()\n",
    "    \n",
    "    def setNextPin(self,source): #new unarygate pin is set by source output\n",
    "        if self.pin == None:\n",
    "            self.pin = source\n",
    "        else:\n",
    "            raise RuntimeError(\"Error: No Empty Pin\")"
   ]
  },
  {
   "cell_type": "code",
   "execution_count": 5,
   "metadata": {
    "collapsed": true
   },
   "outputs": [],
   "source": [
    "#AndGate: BinaryGate subclass implementation:\n",
    "class AndGate(BinaryGate):\n",
    "    \n",
    "    def __init__(self,n):\n",
    "        BinaryGate.__init__(self,n)\n",
    "        \n",
    "    def performGateLogic(self): #Implementing the LogicGate method per type of gate\n",
    "        \n",
    "        a = self.getPinA()\n",
    "        b = self.getPinB()\n",
    "        if a == 1 and b == 1:\n",
    "            return 1\n",
    "        else:\n",
    "            return 0"
   ]
  },
  {
   "cell_type": "code",
   "execution_count": 6,
   "metadata": {
    "collapsed": false
   },
   "outputs": [],
   "source": [
    "#NandGate: BinaryGate subclass implementation that does the opposite of Andgate:\n",
    "class NandGate(BinaryGate): #Shouldn't have to worry about affecting anything else bc of inheritance!!!\n",
    "    \n",
    "    def __init__(self,n):\n",
    "        BinaryGate.__init__(self,n)\n",
    "    \n",
    "    def performGateLogic(self):\n",
    "        \n",
    "        a = self.getPinA()\n",
    "        b = self.getPinB()\n",
    "        if a==1 and b==1:\n",
    "            return 0\n",
    "        else:\n",
    "            return 1"
   ]
  },
  {
   "cell_type": "code",
   "execution_count": 7,
   "metadata": {
    "collapsed": true
   },
   "outputs": [],
   "source": [
    "#OrGate: BinaryGate subclass implementation:\n",
    "class OrGate(BinaryGate):\n",
    "    \n",
    "    def __init__(self,n):\n",
    "        BinaryGate.__init__(self,n)\n",
    "        \n",
    "    def performGateLogic(self):\n",
    "        \n",
    "        a = self.getPinA()\n",
    "        b = self.getPinB()\n",
    "        if a == 1 or b == 1:\n",
    "            return 1\n",
    "        else:\n",
    "            return 0"
   ]
  },
  {
   "cell_type": "code",
   "execution_count": 8,
   "metadata": {
    "collapsed": true
   },
   "outputs": [],
   "source": [
    "#NorGate: BinaryGate subclass implementation that does the opposite of OrGate:\n",
    "class NorGate(BinaryGate):\n",
    "    \n",
    "    def __init__(self,n):\n",
    "        BinaryGate.__init__(self,n)\n",
    "        \n",
    "    def performGateLogic(self):\n",
    "        \n",
    "        a = self.getPinA()\n",
    "        b = self.getPinB()\n",
    "        if a == 1 or b == 1:\n",
    "            return 0 #returns NOT(OrGate)\n",
    "        else:\n",
    "            return 1"
   ]
  },
  {
   "cell_type": "code",
   "execution_count": 9,
   "metadata": {
    "collapsed": false
   },
   "outputs": [],
   "source": [
    "#XorGate: BinaryGate subclass implementation that returns True if.f\n",
    "#one or the other input is True. If both inputs are True, returns False:\n",
    "class XorGate(BinaryGate):\n",
    "    \n",
    "    def __init__(self,n):\n",
    "        BinaryGate.__init__(self,n)\n",
    "        \n",
    "    def performGateLogic(self):\n",
    "        \n",
    "        a = self.getPinA()\n",
    "        b = self.getPinB()\n",
    "        if (a == 1 and b == 0) or (a == 0 and b == 1):\n",
    "            return 1\n",
    "        else:\n",
    "            return 0"
   ]
  },
  {
   "cell_type": "code",
   "execution_count": 10,
   "metadata": {
    "collapsed": true
   },
   "outputs": [],
   "source": [
    "#XnorGate: logical complement of XOR:\n",
    "class XnorGate(BinaryGate):\n",
    "    \n",
    "    def __init__(self,n):\n",
    "        BinaryGate.__init__(self,n)\n",
    "        \n",
    "    def performGateLogic(self):\n",
    "        \n",
    "        a = self.getPinA()\n",
    "        b = self.getPinB()\n",
    "        if (a ==1 and b == 0) or (a == 0 and b == 1):\n",
    "            return 0\n",
    "        else:\n",
    "            return 1"
   ]
  },
  {
   "cell_type": "code",
   "execution_count": 11,
   "metadata": {
    "collapsed": true
   },
   "outputs": [],
   "source": [
    "#NotGate: UnaryGate subclass implementation\n",
    "class NotGate(UnaryGate): #returns opposite of input\n",
    "    \n",
    "    def __init__(self,n):\n",
    "        UnaryGate.__init__(self,n)\n",
    "        \n",
    "    def performGateLogic(self):\n",
    "        if self.getPin():\n",
    "            return 0\n",
    "        else:\n",
    "            return 1"
   ]
  },
  {
   "cell_type": "code",
   "execution_count": 12,
   "metadata": {
    "collapsed": true
   },
   "outputs": [],
   "source": [
    "#Sweet. Our gates work. So to build a circuit, we need to connect these\n",
    "#kiddos. Connections send output from one node to another, (neural nets,\n",
    "#linked list iterators, and the like use this I think). So it's not\n",
    "#gonna be a subclass of the LogicGate! BUT it will use the gate \n",
    "#hierarchy in that each connector will have two gates, one on either end\n",
    "#So connectors have instances of the LogicGate within them, but aren't\n",
    "#part of the hierarchy. Starting to look a LOT like an interator. \n",
    "#checkout diagram in onenote."
   ]
  },
  {
   "cell_type": "code",
   "execution_count": 13,
   "metadata": {
    "collapsed": true
   },
   "outputs": [],
   "source": [
    "class Connector:\n",
    "    \n",
    "    def __init__(self, fgate, tgate):        \n",
    "        self.fromgate = fgate\n",
    "        self.togate = tgate\n",
    "        \n",
    "        tgate.setNextPin(self) #method must be defined in gate classes\n",
    "        \n",
    "    def getFrom(self):\n",
    "        return self.fromgate\n",
    "    \n",
    "    def getTo(self):\n",
    "        return self.togate"
   ]
  },
  {
   "cell_type": "code",
   "execution_count": 14,
   "metadata": {
    "collapsed": true
   },
   "outputs": [],
   "source": [
    "def main(): #MAKE SURE YOU DEFINE YOUR MAIN BODY OF CODE LIKE THIS!\n",
    "    g1 = AndGate(\"G1\")\n",
    "    g2 = AndGate(\"G2\")\n",
    "    g3 = XnorGate(\"G3\")\n",
    "    g4 = NotGate(\"G4\")\n",
    "    c1 = Connector(g1,g3)\n",
    "    c2 = Connector(g2,g3)\n",
    "    c3 = Connector(g3,g4)\n",
    "    print(g4.getOutput())"
   ]
  },
  {
   "cell_type": "code",
   "execution_count": 15,
   "metadata": {
    "collapsed": false
   },
   "outputs": [
    {
     "name": "stdout",
     "output_type": "stream",
     "text": [
      "Enter Pin A input for gate G1-->1\n",
      "Enter Pin B input for gate G1-->1\n",
      "Enter Pin A input for gate G2-->1\n",
      "Enter Pin B input for gate G2-->1\n",
      "0\n"
     ]
    }
   ],
   "source": [
    "main()"
   ]
  },
  {
   "cell_type": "code",
   "execution_count": null,
   "metadata": {
    "collapsed": true
   },
   "outputs": [],
   "source": []
  }
 ],
 "metadata": {
  "anaconda-cloud": {},
  "kernelspec": {
   "display_name": "Python [default]",
   "language": "python",
   "name": "python3"
  },
  "language_info": {
   "codemirror_mode": {
    "name": "ipython",
    "version": 3
   },
   "file_extension": ".py",
   "mimetype": "text/x-python",
   "name": "python",
   "nbconvert_exporter": "python",
   "pygments_lexer": "ipython3",
   "version": "3.5.2"
  }
 },
 "nbformat": 4,
 "nbformat_minor": 1
}
