{
 "cells": [
  {
   "cell_type": "markdown",
   "metadata": {},
   "source": [
    "- Understand what a tree data structure is and how its used\n",
    "- See how trees can be used to implement a map data structure\n",
    "- implement trees using a list\n",
    "- implement trees using classes and references\n",
    "- implement trees as a recursive data structure\n",
    "- implement a priority queue using a heap"
   ]
  },
  {
   "cell_type": "markdown",
   "metadata": {},
   "source": [
    "1: Implementing a tree using a list of lists"
   ]
  },
  {
   "cell_type": "code",
   "execution_count": 15,
   "metadata": {
    "collapsed": true
   },
   "outputs": [],
   "source": [
    "    ###Basic Idea behind what this would look like Iteratively\n",
    "myTree = ['a', #Root\n",
    "    ['b', #left subtree\n",
    "      ['d', [], []],  #left child of b\n",
    "      ['e', [], []] ],#right child of b\n",
    "    ['c', #right subtree\n",
    "      ['f', [], []],  #left child of c\n",
    "      ['g', [], []],] #right child of c\n",
    "         ]"
   ]
  },
  {
   "cell_type": "code",
   "execution_count": 16,
   "metadata": {
    "collapsed": false
   },
   "outputs": [
    {
     "name": "stdout",
     "output_type": "stream",
     "text": [
      "b\n"
     ]
    }
   ],
   "source": [
    "    ###How to access parts of the tree\n",
    "print (myTree[1][0]) "
   ]
  },
  {
   "cell_type": "code",
   "execution_count": 18,
   "metadata": {
    "collapsed": false
   },
   "outputs": [],
   "source": [
    "    ###BinaryTree list of lists implementation:\n",
    "    \n",
    "    def BinaryTree(r): #Sets up the root and child nodes\n",
    "        return [r, [], []]\n",
    "\n",
    "    ###Recursive insertion methods###\n",
    "    def insertLeft(root, newBranch):\n",
    "        t = root.pop(1) #Removes and returns data from index = 1 of binary tree list\n",
    "   \n",
    "        if (len(t) > 1): #Inserts newBranch under left-most leaf \n",
    "            root.insert(1, [newBranch, t, []]) #if leftBranch does HAVE data\n",
    "        else:\n",
    "            root.insert(1, [newBranch, [], []]) #if leftBranch does NOT HAVE data\n",
    "  \n",
    "        return root\n",
    "\n",
    "    def insertRight(root, newBranch):\n",
    "        t = root.pop(2) #Removes and returns data from index = 2 of BT\n",
    "    \n",
    "        if (len(t) > 1):\n",
    "            root.insert(2, [newBranch, t, []])\n",
    "        else:\n",
    "            root.insert(2, [newBranch, [], []])\n",
    "\n",
    "    ###Access and root setting methods###\n",
    "    def getRootVal(root):\n",
    "        return root[0]\n",
    "\n",
    "    def setRootVal(root, data):\n",
    "        root[0] = data\n",
    "    \n",
    "    def getLeftChild(root):\n",
    "        return root[1]\n",
    "\n",
    "    def getRightChild(root):\n",
    "        return root[2]\n",
    "    "
   ]
  },
  {
   "cell_type": "code",
   "execution_count": 32,
   "metadata": {
    "collapsed": false
   },
   "outputs": [],
   "source": [
    "root = BinaryTree(10)"
   ]
  },
  {
   "cell_type": "code",
   "execution_count": 33,
   "metadata": {
    "collapsed": false
   },
   "outputs": [
    {
     "data": {
      "text/plain": [
       "10"
      ]
     },
     "execution_count": 33,
     "metadata": {},
     "output_type": "execute_result"
    }
   ],
   "source": [
    "getRootVal(root)"
   ]
  },
  {
   "cell_type": "code",
   "execution_count": 34,
   "metadata": {
    "collapsed": false
   },
   "outputs": [],
   "source": [
    "insertLeft(root, 4)\n",
    "insertLeft(root, 5)\n",
    "insertRight(root, 6)\n",
    "insertRight(root, 7)\n"
   ]
  },
  {
   "cell_type": "code",
   "execution_count": 35,
   "metadata": {
    "collapsed": true
   },
   "outputs": [],
   "source": [
    "l = getLeftChild(root)"
   ]
  },
  {
   "cell_type": "code",
   "execution_count": 36,
   "metadata": {
    "collapsed": false
   },
   "outputs": [
    {
     "name": "stdout",
     "output_type": "stream",
     "text": [
      "[5, [4, [], []], []]\n"
     ]
    }
   ],
   "source": [
    "print (l)"
   ]
  },
  {
   "cell_type": "code",
   "execution_count": 53,
   "metadata": {
    "collapsed": true
   },
   "outputs": [],
   "source": [
    "###Recursively defining Binary Tree Node class \n",
    "###(no real need for Tree wrapper):\n",
    "\n",
    "class bNode:\n",
    "    \n",
    "    def __init__(self): #Constructor initializes new empty node\n",
    "        self.key = None\n",
    "        self.leftChild = None\n",
    "        self.rightChild = None\n",
    "    \n",
    "    def __init__(self, key): #initializes a new node with a name\n",
    "        self.key = key\n",
    "        self.leftChild = None\n",
    "        self.rightChild = None\n",
    "    \n",
    "    ###Methods to iteratively input Nodes into tree\n",
    "    \n",
    "    def insLeft(self, newNode): \n",
    "        if (self.leftChild == None): #set node's leftChild to newNode if self.leftChild is empty\n",
    "            self.leftChild = bNode(newNode)\n",
    "        else:\n",
    "            temp = bNode(newNode)\n",
    "            temp.leftChild = self.leftChild\n",
    "            self.leftChild = temp #inserts node as the child of the root node you\n",
    "            #called the function to and then sets original leftChild as leftChild\n",
    "            #of the new node. Does not account for larger/smaller values yet\n",
    "    \n",
    "    def insRight(self, newNode): #same as above, for right side\n",
    "        if (self.rightChild == None):\n",
    "            self.rightChild = bNode(newNode)\n",
    "        else:\n",
    "            temp = bnode(newNode)\n",
    "            temp.rightChild = self.rightChild\n",
    "            self.rightChild = temp\n",
    "            \n",
    "    ###Methods for access and root setting\n",
    "    \n",
    "    def getRChild(self):\n",
    "        return self.rightChild\n",
    "    \n",
    "    def getLChild(self):\n",
    "        return self.leftChild\n",
    "    \n",
    "    def setRTVal(self, data):\n",
    "        self.key = data\n",
    "        \n",
    "    def getRTVal(self):\n",
    "        return self.key\n",
    "    \n",
    "    ###Methods for traversal. Check CTCi notes if you need illustration\n",
    "    \n",
    "    #PreOrder traversal takes the root node, then it's left child, then\n",
    "    #that node's left child and so on until the last left child. Then it \n",
    "    #goes to the last leftChild's parent and checks for any rightChilds.\n",
    "    #if None, takes that parent. If not None, goes to rightChild and checks\n",
    "    #for any leftChilds. If None, goes back to rightChild and checks for\n",
    "    #any rightChilds of that one. ETC ETC. \n",
    "    \n",
    "    \n",
    "    def PreOrder(self):\n",
    "        print(self.key)\n",
    "        \n",
    "        if (self.leftChild != None):\n",
    "            self.leftChild.PreOrder()\n",
    "        if (self.rightChild !=None):\n",
    "            self.rightChild.PreOrder()\n",
    "    \n",
    "    \n",
    "    #InOrder traversal takes the left-most node first. Then it goes\n",
    "    #to the parent to check for any nodes to the parent's right. If None, \n",
    "    #then it takes the parent. If not None, it goes to that node and\n",
    "    #checks for any nodes to the left. If None, it takes the node. And\n",
    "    #so on.\n",
    "    \n",
    "    def InOrder(self):\n",
    "        if (self.leftChild != None):\n",
    "            self.leftChild.InOrder()\n",
    "        \n",
    "        print (self.key)\n",
    "        \n",
    "        if (self.rightChild != None):\n",
    "            self.rightChild.InOrder()\n",
    "            \n",
    "    #PostOrder traversal takes the left-most node first. Then it goes\n",
    "    #to its parent and checks for any rightChilds. [If not None, checks\n",
    "    #for any leftChilds of rightChild. If None, takes parent and so on\n",
    "    \n",
    "    def PostOrder(self):\n",
    "        if (self.leftChild != None):\n",
    "            self.leftChild.PostOrder()\n",
    "        if (self.rightChild != None):\n",
    "            self.rightChild.PostOrder()\n",
    "        \n",
    "        print(self.key)\n",
    "    "
   ]
  },
  {
   "cell_type": "code",
   "execution_count": 62,
   "metadata": {
    "collapsed": true
   },
   "outputs": [],
   "source": [
    "r = bNode('b')"
   ]
  },
  {
   "cell_type": "code",
   "execution_count": 63,
   "metadata": {
    "collapsed": false
   },
   "outputs": [],
   "source": [
    "r.insLeft('a')\n",
    "r.insRight('c')"
   ]
  },
  {
   "cell_type": "code",
   "execution_count": 64,
   "metadata": {
    "collapsed": false
   },
   "outputs": [
    {
     "name": "stdout",
     "output_type": "stream",
     "text": [
      "b\n",
      "a\n",
      "c\n"
     ]
    }
   ],
   "source": [
    "r.PreOrder()"
   ]
  },
  {
   "cell_type": "code",
   "execution_count": 65,
   "metadata": {
    "collapsed": false
   },
   "outputs": [
    {
     "name": "stdout",
     "output_type": "stream",
     "text": [
      "a\n",
      "b\n",
      "c\n"
     ]
    }
   ],
   "source": [
    "r.InOrder()"
   ]
  },
  {
   "cell_type": "code",
   "execution_count": 66,
   "metadata": {
    "collapsed": false
   },
   "outputs": [
    {
     "name": "stdout",
     "output_type": "stream",
     "text": [
      "a\n",
      "c\n",
      "b\n"
     ]
    }
   ],
   "source": [
    "r.PostOrder()"
   ]
  },
  {
   "cell_type": "code",
   "execution_count": null,
   "metadata": {
    "collapsed": true
   },
   "outputs": [],
   "source": []
  }
 ],
 "metadata": {
  "kernelspec": {
   "display_name": "Python [default]",
   "language": "python",
   "name": "python3"
  },
  "language_info": {
   "codemirror_mode": {
    "name": "ipython",
    "version": 3
   },
   "file_extension": ".py",
   "mimetype": "text/x-python",
   "name": "python",
   "nbconvert_exporter": "python",
   "pygments_lexer": "ipython3",
   "version": "3.5.2"
  }
 },
 "nbformat": 4,
 "nbformat_minor": 1
}
