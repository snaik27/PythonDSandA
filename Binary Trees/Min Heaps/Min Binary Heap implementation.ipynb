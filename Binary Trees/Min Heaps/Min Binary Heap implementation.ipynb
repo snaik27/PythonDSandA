{
 "cells": [
  {
   "cell_type": "markdown",
   "metadata": {},
   "source": [
    "Min-Heap(def): complete binary tree in which each node is smaller than its children. So the root is the minimum heap. It has 2 main operations:\n",
    "1. Insert\n",
    "2. Extract_min"
   ]
  },
  {
   "cell_type": "code",
   "execution_count": 5,
   "metadata": {
    "collapsed": false
   },
   "outputs": [],
   "source": [
    "###In order to guarantee logarithmic performance, we must keep our tree\n",
    "###balanced. A balanced binary tree has roughly the same number of nodes \n",
    "###in the left and right subtrees of the root. We make this happen by \n",
    "###creating a complete binary tree. A complete binary tree is a tree\n",
    "###in which each level has all of its nodes. The exception to this is\n",
    "###the bottom level of the tree, which we fill in from left to right.\n",
    "\n",
    "class minHeap:\n",
    "    \n",
    "    def __init__(self): #Constructor for empty minHeap\n",
    "        self.heapList = [0]\n",
    "        self.currentSize = 0\n",
    "\n",
    "    def insert(self, data):\n",
    "        self.heapList.append(data)\n",
    "        self.currentSize = self.currentSize + 1\n",
    "        self.BubbleUp(self.currentSize)\n",
    "        ###WE HAVE PUT A 0 IN THE HEAPLIST YET KEPT CURRENTSIZE AS 0\n",
    "        ###BECAUSE WE WANT TO LET CURRENTSIZE FOLLOW A 1-last_element \n",
    "        ###INDEX. NOT THE USUAL 0-last_element INDEX BECAUSE THE\n",
    "        ###BUBBLEUP METHOD RELIES ON __FLOORDIV__\n",
    "    \n",
    "    def BubbleUp(self, heapSize): #inserts data value\n",
    "        \n",
    "        while (heapSize//2 > 0): #BubbleUp only does anything if theres more than 1 element\n",
    "            if (self.heapList[heapSize] < self.heapList[heapSize//2]):\n",
    "                temp = self.heapList[heapSize//2]\n",
    "                self.heapList[heapSize//2] = self.heapList[heapSize]\n",
    "                self.heapList[heapSize] = temp\n",
    "            heapSize = heapSize//2\n",
    "            \n",
    "        ###BubbleUp visual is in OneNote: Python notes\n",
    "    \n",
    "    def ExtractMin(self):\n",
    "        temp = self.heapList[1] #create min temp that we'll return later\n",
    "        self.heapList[1] = self.heapList[self.currentSize]\n",
    "        self.currentSize = self.currentSize - 1\n",
    "        self.heapList.pop()\n",
    "        self.BubbleDown(1)\n",
    "        return temp \n",
    "    \n",
    "    def BubbleDown(self, i): #i in this case is the first element in the heapList\n",
    "        while ((i*2) <= self.currentSize):\n",
    "            minChild = self.minChild(i)\n",
    "            if (self.heapList[i] > self.heapList[minChild]):\n",
    "                temp = self.heapList[i]\n",
    "                self.heapList[i] = self.heapList[minChild]\n",
    "                self.heapList[minChild] = temp\n",
    "            i = minChild\n",
    "            \n",
    "    def minChild(self, i): #i in this case is the element in the heapList whose children we are examining\n",
    "        if (((i*2)+1) > self.currentSize):\n",
    "            return (i*2)\n",
    "        else:\n",
    "            if (self.heapList[(i*2)] < self.heapList[((i*2) + 1)]):\n",
    "                return (i*2)\n",
    "            else:\n",
    "                return ((i*2) + 1)\n",
    "        ###ExtractMin visual is in OneNote: Python notes"
   ]
  },
  {
   "cell_type": "markdown",
   "metadata": {
    "collapsed": false
   },
   "source": [
    "Things to do if you are looking at this for help in implementing your min heap:\n",
    "1. Look up the difference between __floordiv__ and __truediv__\n",
    "2. Try several examples of floordiv(the double slash division) and truediv(single slash division)\n",
    "3. Draw out the Insertion and ExtractMin methods yourself on small trees\n",
    "4. Build a couple of these babies yourself. \n",
    "5. Check out interactivepython.org for more information!"
   ]
  },
  {
   "cell_type": "code",
   "execution_count": 2,
   "metadata": {
    "collapsed": false
   },
   "outputs": [
    {
     "data": {
      "text/plain": [
       "0.75"
      ]
     },
     "execution_count": 2,
     "metadata": {},
     "output_type": "execute_result"
    }
   ],
   "source": [
    "3/4"
   ]
  },
  {
   "cell_type": "code",
   "execution_count": 3,
   "metadata": {
    "collapsed": false
   },
   "outputs": [
    {
     "data": {
      "text/plain": [
       "0"
      ]
     },
     "execution_count": 3,
     "metadata": {},
     "output_type": "execute_result"
    }
   ],
   "source": [
    "3//5"
   ]
  },
  {
   "cell_type": "code",
   "execution_count": 4,
   "metadata": {
    "collapsed": false
   },
   "outputs": [
    {
     "data": {
      "text/plain": [
       "0"
      ]
     },
     "execution_count": 4,
     "metadata": {},
     "output_type": "execute_result"
    }
   ],
   "source": [
    "3//6"
   ]
  },
  {
   "cell_type": "code",
   "execution_count": 5,
   "metadata": {
    "collapsed": false
   },
   "outputs": [
    {
     "data": {
      "text/plain": [
       "1"
      ]
     },
     "execution_count": 5,
     "metadata": {},
     "output_type": "execute_result"
    }
   ],
   "source": [
    "3//2"
   ]
  },
  {
   "cell_type": "code",
   "execution_count": 6,
   "metadata": {
    "collapsed": false
   },
   "outputs": [
    {
     "data": {
      "text/plain": [
       "2"
      ]
     },
     "execution_count": 6,
     "metadata": {},
     "output_type": "execute_result"
    }
   ],
   "source": [
    "5//2"
   ]
  },
  {
   "cell_type": "code",
   "execution_count": 7,
   "metadata": {
    "collapsed": false
   },
   "outputs": [
    {
     "data": {
      "text/plain": [
       "1"
      ]
     },
     "execution_count": 7,
     "metadata": {},
     "output_type": "execute_result"
    }
   ],
   "source": [
    "3//3"
   ]
  },
  {
   "cell_type": "code",
   "execution_count": null,
   "metadata": {
    "collapsed": true
   },
   "outputs": [],
   "source": []
  }
 ],
 "metadata": {
  "anaconda-cloud": {},
  "kernelspec": {
   "display_name": "Python [default]",
   "language": "python",
   "name": "python3"
  },
  "language_info": {
   "codemirror_mode": {
    "name": "ipython",
    "version": 3
   },
   "file_extension": ".py",
   "mimetype": "text/x-python",
   "name": "python",
   "nbconvert_exporter": "python",
   "pygments_lexer": "ipython3",
   "version": "3.5.2"
  }
 },
 "nbformat": 4,
 "nbformat_minor": 1
}
