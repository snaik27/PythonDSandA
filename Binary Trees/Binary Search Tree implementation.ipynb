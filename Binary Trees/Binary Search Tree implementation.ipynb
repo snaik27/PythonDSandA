{
 "cells": [
  {
   "cell_type": "markdown",
   "metadata": {},
   "source": [
    "BST operations:\n",
    "1. Map(): create a new, empty map\n",
    "\n",
    "2. put(key): add a new key-value pair to the map. #For simplicity, we'll have duplicates be placed at RChild's of original duplicate. \n",
    "\n",
    "4. del(key): deletes and returns that key node\n",
    "\n",
    "5. len(): Return the number of Nodes stored in the map.\n",
    "\n",
    "6. in: Return 'True' for a statement of the form 'key in map', if the given key is in the map "
   ]
  },
  {
   "cell_type": "code",
   "execution_count": 68,
   "metadata": {
    "collapsed": false
   },
   "outputs": [],
   "source": [
    "class BSTNode:\n",
    "    \n",
    "    def __init__(self, key = None, RChild = None, LChild = None):\n",
    "        self.key = key         #name/value/data of node\n",
    "        self.RChild = RChild   #points to right child which is of 'greater value'\n",
    "        self.LChild = LChild   #points to left child which is of 'lower value'.\n",
    "        ###Python has 'optional parameters'. This lets us use methods\n",
    "        ###under different circumstances. So no need to overload the \n",
    "        ###Constructor method, we can just write in optional parameters\n",
    "        ###And set all defaults to None! (Don't know if this is \n",
    "        ###the best way to do things, but we'll use this for now)\n",
    "        \n",
    "    def insert(self, newNode): #Gotta do this in Pre-Order-ish traversal (parent visited before children\n",
    "        if (self.key is None):\n",
    "            self.key = newNode\n",
    "        else:\n",
    "            if (newNode < self.key):\n",
    "                if (self.LChild is None):\n",
    "                    self.LChild = BSTNode(newNode)\n",
    "                else:\n",
    "                    self.LChild.insert(newNode)\n",
    "            else:\n",
    "                if(self.RChild is None):\n",
    "                    self.RChild = BSTNode(newNode)\n",
    "                else:\n",
    "                    if(self.RChild.key == newNode):\n",
    "                        temp = self.RChild\n",
    "                        self.RChild = BSTNode(newNode)\n",
    "                        self.RChild.RChild = temp\n",
    "                    else:\n",
    "                        self.RChild.insert(newNode)\n",
    "        ###Recursive insertion s.t. if the data < the current node, it will be \n",
    "        ###placed somewhere in the left subtree. If the data >= the current\n",
    "        ###node, it will be placed somewhere in the right subtree! If the\n",
    "        ###equals the current node, the newNode is placed directly as the\n",
    "        ###rightChild of the current node and the oldRightChild is now the \n",
    "        ###rightChild of the newNode.\n",
    "        ###INSERTION VISUAL CAN BE FOUND IN ONENOTE\n",
    "        \n",
    "    #Let's print the tree to make sure we're doing this right\n",
    "        \n",
    "    def InOrder(self):\n",
    "        if (self.LChild != None):\n",
    "            self.LChild.InOrder()\n",
    "        \n",
    "        print (self.key)\n",
    "        \n",
    "        if (self.RChild != None):\n",
    "            self.RChild.InOrder()            \n",
    "        ###Prints out the tree InOrder: Left-node visited first,\n",
    "        ###then parent, then right node. \n",
    "        \n",
    "      \n",
    "    def PostOrder(self):\n",
    "        if (self.LChild != None):\n",
    "            self.LChild.PostOrder()\n",
    "        if (self.RChild != None):\n",
    "            self.RChild.PostOrder()\n",
    "        \n",
    "        print(self.key)\n",
    "        \n",
    "        ###Prints out the tree PostOrder: Left-child, then right\n",
    "        ###child, then parent.\n",
    "        \n",
    "      \n",
    "    def PreOrder(self):\n",
    "        print(self.key)\n",
    "        \n",
    "        if (self.LChild != None):\n",
    "            self.LChild.PreOrder()\n",
    "        if (self.RChild !=None):\n",
    "            self.RChild.PreOrder()\n",
    "        ###Prints out the tree PreOrder: Parent, then leftChild,\n",
    "        ###then right child.\n",
    "    "
   ]
  },
  {
   "cell_type": "code",
   "execution_count": 69,
   "metadata": {
    "collapsed": true
   },
   "outputs": [],
   "source": [
    "myBST = BSTNode(10)"
   ]
  },
  {
   "cell_type": "code",
   "execution_count": 70,
   "metadata": {
    "collapsed": true
   },
   "outputs": [],
   "source": [
    "myBST.insert(7)"
   ]
  },
  {
   "cell_type": "code",
   "execution_count": 71,
   "metadata": {
    "collapsed": false
   },
   "outputs": [],
   "source": [
    "myBST.insert(12)"
   ]
  },
  {
   "cell_type": "code",
   "execution_count": 72,
   "metadata": {
    "collapsed": true
   },
   "outputs": [],
   "source": [
    "myBST.insert(5)"
   ]
  },
  {
   "cell_type": "code",
   "execution_count": 73,
   "metadata": {
    "collapsed": true
   },
   "outputs": [],
   "source": [
    "myBST.insert(8)"
   ]
  },
  {
   "cell_type": "code",
   "execution_count": 74,
   "metadata": {
    "collapsed": true
   },
   "outputs": [],
   "source": [
    "myBST.insert(11)"
   ]
  },
  {
   "cell_type": "code",
   "execution_count": 75,
   "metadata": {
    "collapsed": true
   },
   "outputs": [],
   "source": [
    "myBST.insert(4)"
   ]
  },
  {
   "cell_type": "code",
   "execution_count": 76,
   "metadata": {
    "collapsed": true
   },
   "outputs": [],
   "source": [
    "myBST.insert(9)"
   ]
  },
  {
   "cell_type": "code",
   "execution_count": 77,
   "metadata": {
    "collapsed": false
   },
   "outputs": [],
   "source": [
    "myBST.insert(8)"
   ]
  },
  {
   "cell_type": "code",
   "execution_count": 78,
   "metadata": {
    "collapsed": false
   },
   "outputs": [
    {
     "name": "stdout",
     "output_type": "stream",
     "text": [
      "4\n",
      "5\n",
      "7\n",
      "8\n",
      "8\n",
      "9\n",
      "10\n",
      "11\n",
      "12\n"
     ]
    }
   ],
   "source": [
    "myBST.InOrder()"
   ]
  },
  {
   "cell_type": "code",
   "execution_count": 79,
   "metadata": {
    "collapsed": false
   },
   "outputs": [
    {
     "name": "stdout",
     "output_type": "stream",
     "text": [
      "4\n",
      "5\n",
      "9\n",
      "8\n",
      "8\n",
      "7\n",
      "11\n",
      "12\n",
      "10\n"
     ]
    }
   ],
   "source": [
    "myBST.PostOrder()"
   ]
  },
  {
   "cell_type": "code",
   "execution_count": 80,
   "metadata": {
    "collapsed": false
   },
   "outputs": [
    {
     "name": "stdout",
     "output_type": "stream",
     "text": [
      "10\n",
      "7\n",
      "5\n",
      "4\n",
      "8\n",
      "8\n",
      "9\n",
      "12\n",
      "11\n"
     ]
    }
   ],
   "source": [
    "myBST.PreOrder()"
   ]
  },
  {
   "cell_type": "markdown",
   "metadata": {},
   "source": [
    "WOO!"
   ]
  },
  {
   "cell_type": "code",
   "execution_count": null,
   "metadata": {
    "collapsed": true
   },
   "outputs": [],
   "source": []
  }
 ],
 "metadata": {
  "kernelspec": {
   "display_name": "Python [default]",
   "language": "python",
   "name": "python3"
  },
  "language_info": {
   "codemirror_mode": {
    "name": "ipython",
    "version": 3
   },
   "file_extension": ".py",
   "mimetype": "text/x-python",
   "name": "python",
   "nbconvert_exporter": "python",
   "pygments_lexer": "ipython3",
   "version": "3.5.2"
  }
 },
 "nbformat": 4,
 "nbformat_minor": 1
}
