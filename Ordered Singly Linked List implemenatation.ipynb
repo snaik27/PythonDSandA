{
 "cells": [
  {
   "cell_type": "code",
   "execution_count": 79,
   "metadata": {
    "collapsed": true
   },
   "outputs": [],
   "source": [
    "class Node: #Hidden class. Should never be touched by anything besides the Ordered list class\n",
    "    \n",
    "    def __init__(self):\n",
    "        self.data = None\n",
    "        self.next = None\n",
    "    \n",
    "    def __init__(self, item):\n",
    "        self.data = item\n",
    "        self.next = None\n",
    "    \n",
    "    def get_data(self):\n",
    "        return self.data\n",
    "    \n",
    "    def get_next(self):\n",
    "        return self.next\n",
    "    \n",
    "    def set_data(self, new_item):\n",
    "        self.data = new_item\n",
    "        \n",
    "    def set_next(self, new_item):\n",
    "        self.next = new_item"
   ]
  },
  {
   "cell_type": "code",
   "execution_count": 80,
   "metadata": {
    "collapsed": false
   },
   "outputs": [],
   "source": [
    "class OrderedList:\n",
    "    \n",
    "    def __init__(self): #Constructor creates empty OrderedList\n",
    "        self.head = None\n",
    "    \n",
    "    def isEmpty(self): #returns true if List isEmpty\n",
    "        return (self.head == None)\n",
    "    \n",
    "    def add(self, item): #adds new item to list making sure order is preserved\n",
    "        current = self.head\n",
    "        previous = None\n",
    "        temp = Node(item)\n",
    "        stop = False\n",
    "        while (current != None) and not(stop):\n",
    "            if (current.get_data() > item):\n",
    "                stop = True\n",
    "            else: \n",
    "                previous = current\n",
    "                current = current.get_next()\n",
    "                \n",
    "        if (previous == None):\n",
    "            temp.set_next(self.head)\n",
    "            self.head = temp\n",
    "        else:\n",
    "            temp.set_next(current)\n",
    "            previous.set_next(temp)\n",
    "            \n",
    "        ###While loop iterates thru ordered list to find node that is\n",
    "        ###larger than the input. If the list is empty, sets input\n",
    "        ###as head (if(previous == None)) line. If list reaches end\n",
    "        ###or a smaller or equal value, then input is set as end node. \n",
    "           \n",
    "    def size(self): #iterates thru list, returns int count of nodes\n",
    "        count = 0\n",
    "        current = self.head\n",
    "        while (current != None):\n",
    "            count = count + 1\n",
    "            current = current.get_next()\n",
    "        \n",
    "        return count\n",
    "    \n",
    "    def search(self, item):\n",
    "        current = self.head\n",
    "        found = False\n",
    "        stop = False\n",
    "        while (current != None) and not(found) and not(stop):\n",
    "            if (current.get_data() == item):\n",
    "                found = True\n",
    "            else:\n",
    "                if (current.get_data() > item):\n",
    "                    stop = True\n",
    "                else:\n",
    "                    current = current.get_next()\n",
    "        \n",
    "        return found\n",
    "    \n",
    "    def index(self, item): #returns position of item in list\n",
    "        index = 0\n",
    "        current = self.head\n",
    "        found = False\n",
    "        stop = False\n",
    "        while (current != None) and not(found)and not(stop):\n",
    "            if(current.get_data() == item):\n",
    "                found = True\n",
    "            else:\n",
    "                index = index + 1\n",
    "                current = current.get_next()            \n",
    "            \n",
    "        return index\n",
    "        \n",
    "        ###While loop makes sure current isn't a None and iterates\n",
    "        ###thru list until item is found, adding 1 to the index\n",
    "        ###every time the while loop iterates. Once the item is found\n",
    "        ###the index value is returned   "
   ]
  },
  {
   "cell_type": "code",
   "execution_count": 81,
   "metadata": {
    "collapsed": true
   },
   "outputs": [],
   "source": [
    "mylist = OrderedList()"
   ]
  },
  {
   "cell_type": "code",
   "execution_count": 82,
   "metadata": {
    "collapsed": false
   },
   "outputs": [],
   "source": [
    "mylist.add(1)"
   ]
  },
  {
   "cell_type": "code",
   "execution_count": 83,
   "metadata": {
    "collapsed": false
   },
   "outputs": [],
   "source": [
    "mylist.add(3)"
   ]
  },
  {
   "cell_type": "code",
   "execution_count": 84,
   "metadata": {
    "collapsed": false
   },
   "outputs": [
    {
     "data": {
      "text/plain": [
       "1"
      ]
     },
     "execution_count": 84,
     "metadata": {},
     "output_type": "execute_result"
    }
   ],
   "source": [
    "mylist.index(3)"
   ]
  },
  {
   "cell_type": "code",
   "execution_count": 85,
   "metadata": {
    "collapsed": false
   },
   "outputs": [
    {
     "data": {
      "text/plain": [
       "0"
      ]
     },
     "execution_count": 85,
     "metadata": {},
     "output_type": "execute_result"
    }
   ],
   "source": [
    "mylist.index(1)"
   ]
  },
  {
   "cell_type": "code",
   "execution_count": 86,
   "metadata": {
    "collapsed": false
   },
   "outputs": [
    {
     "data": {
      "text/plain": [
       "True"
      ]
     },
     "execution_count": 86,
     "metadata": {},
     "output_type": "execute_result"
    }
   ],
   "source": [
    "mylist.search(3)"
   ]
  },
  {
   "cell_type": "code",
   "execution_count": 87,
   "metadata": {
    "collapsed": false
   },
   "outputs": [
    {
     "data": {
      "text/plain": [
       "2"
      ]
     },
     "execution_count": 87,
     "metadata": {},
     "output_type": "execute_result"
    }
   ],
   "source": [
    "mylist.size()"
   ]
  },
  {
   "cell_type": "code",
   "execution_count": 88,
   "metadata": {
    "collapsed": true
   },
   "outputs": [],
   "source": [
    "mylist.add(95)\n",
    "mylist.add(34)\n",
    "mylist.add(22)\n",
    "mylist.add(103)"
   ]
  },
  {
   "cell_type": "code",
   "execution_count": 89,
   "metadata": {
    "collapsed": false
   },
   "outputs": [
    {
     "data": {
      "text/plain": [
       "6"
      ]
     },
     "execution_count": 89,
     "metadata": {},
     "output_type": "execute_result"
    }
   ],
   "source": [
    "mylist.size()"
   ]
  },
  {
   "cell_type": "code",
   "execution_count": 90,
   "metadata": {
    "collapsed": false
   },
   "outputs": [
    {
     "data": {
      "text/plain": [
       "True"
      ]
     },
     "execution_count": 90,
     "metadata": {},
     "output_type": "execute_result"
    }
   ],
   "source": [
    "mylist.search(103)"
   ]
  },
  {
   "cell_type": "code",
   "execution_count": 91,
   "metadata": {
    "collapsed": false
   },
   "outputs": [
    {
     "data": {
      "text/plain": [
       "False"
      ]
     },
     "execution_count": 91,
     "metadata": {},
     "output_type": "execute_result"
    }
   ],
   "source": [
    "mylist.search(104)"
   ]
  }
 ],
 "metadata": {
  "anaconda-cloud": {},
  "kernelspec": {
   "display_name": "Python [default]",
   "language": "python",
   "name": "python3"
  },
  "language_info": {
   "codemirror_mode": {
    "name": "ipython",
    "version": 3
   },
   "file_extension": ".py",
   "mimetype": "text/x-python",
   "name": "python",
   "nbconvert_exporter": "python",
   "pygments_lexer": "ipython3",
   "version": "3.5.2"
  }
 },
 "nbformat": 4,
 "nbformat_minor": 1
}
