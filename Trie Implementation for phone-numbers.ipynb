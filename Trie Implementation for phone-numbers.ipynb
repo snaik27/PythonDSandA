{
 "cells": [
  {
   "cell_type": "markdown",
   "metadata": {},
   "source": [
    "Trie(def): Also called a prefix tree. Is a variant of an n-ary tree in which characters are stored at each node. Each path down the tree may represent a word, or in this case, a phone number (Only because there's only 10 digits, 0-9, and there are 26 letters in English). Maybe we'll extend this to letters, or maybe the implementation will be general enough that it works with words as well. I'm thinking the latter will happen since this is Python. \n",
    "\n",
    "How input, the phone #s, will be represented: List of 10 digits. Errorcheck at input: if (len(input) != 10): ask for input again and raise an errorr\n",
    "\n",
    "How they'll be stored: 11-ary tree -> 10-ary tree -> 9-ary tree -> ... -> 1-ary tree -> Null-node with key = * . Null-node marks end of phone-number. I'm pretty sure this is how phone numbers are stored in cellphones(or in iPhones anyway)"
   ]
  },
  {
   "cell_type": "code",
   "execution_count": 3,
   "metadata": {
    "collapsed": false
   },
   "outputs": [],
   "source": [
    "class Trie:\n",
    "    \n",
    "    def __init__(self):\n",
    "        self.data = {} #initialize an empty dictionary\n",
    "    \n",
    "    def insert(self, phoneList):\n",
    "        c_index = 0\n",
    "        temp = self.data\n",
    "        phoneList.append('#')\n",
    "        iterations = 0\n",
    "        while (iterations <= 11):\n",
    "            temp.setdefault(phoneList[c_index],{})\n",
    "            temp = temp.setdefault(phoneList[c_index],{})\n",
    "            iterations = iterations + 1 \n",
    "            phoneList.pop(c_index)\n",
    "            if (len(phoneList) == 0):\n",
    "                return ('Phone Number Entered into PhoneBook') \n",
    "            \n",
    "   \n",
    "\n",
    "###FIX THIS LOOKUP METHOD###\n",
    "def lookup(self):\n",
    "        iteration = 0\n",
    "        current_index = 0\n",
    "        print(\"Enter Phone Number seperated by commas\")\n",
    "        phoneNo = list(input())\n",
    "        \n",
    "        while(iteration < 10):\n",
    "            name = self.data.get(phoneNo.pop(current_index))\n",
    "            iteration = iteration + 1\n",
    "            current_index = current_index + 1\n",
    "            \n",
    "        if(name != None):\n",
    "            print (\"That number belongs to:\" + name.values())\n",
    "        else: \n",
    "            print (\"That number is not in PhoneBook, would you like to add it? [y/n]\")\n",
    "            answer = input()\n",
    "            if (answer == \"y\"):\n",
    "                print (\"What is this contact's name? Enter first name\")\n",
    "                name = input()\n",
    "                phoneNo.append(name)\n",
    "                self.insert(phoneNo)\n",
    "            else:\n",
    "                print (\"For sure bruh\")\n",
    "                \n",
    "            "
   ]
  },
  {
   "cell_type": "markdown",
   "metadata": {},
   "source": [
    "#Original 'implementation' of the insert method. \n",
    "\n",
    "def insert(self,phoneList):\n",
    "        c_index = 0\n",
    "        temp = self.data\n",
    "        phoneList.append('#')\n",
    "        iterations = 0\n",
    "        while (phoneList[c_index] not in temp) and (iterations <= 10):\n",
    "            temp[phoneList[c_index]] = {}\n",
    "            temp = temp[phoneList.pop(c_index)]\n",
    "            iterations = iterations + 1\n",
    "            print(iterations)\n",
    "            if (len(phoneList) == 0):\n",
    "                return ('Phone Number Entered into PhoneBook')"
   ]
  },
  {
   "cell_type": "code",
   "execution_count": 4,
   "metadata": {
    "collapsed": true
   },
   "outputs": [],
   "source": [
    "PhoneBook = Trie()"
   ]
  },
  {
   "cell_type": "code",
   "execution_count": 5,
   "metadata": {
    "collapsed": false
   },
   "outputs": [],
   "source": [
    "phone1 = [2,2,4,6,2,9,7,5,2,5, 'me']"
   ]
  },
  {
   "cell_type": "code",
   "execution_count": 6,
   "metadata": {
    "collapsed": false
   },
   "outputs": [
    {
     "data": {
      "text/plain": [
       "'Phone Number Entered into PhoneBook'"
      ]
     },
     "execution_count": 6,
     "metadata": {},
     "output_type": "execute_result"
    }
   ],
   "source": [
    "PhoneBook.insert(phone1)"
   ]
  },
  {
   "cell_type": "code",
   "execution_count": 50,
   "metadata": {
    "collapsed": false
   },
   "outputs": [
    {
     "data": {
      "text/plain": [
       "'Phone Number Entered into PhoneBook'"
      ]
     },
     "execution_count": 50,
     "metadata": {},
     "output_type": "execute_result"
    }
   ],
   "source": [
    "PhoneBook.insert(phone2)"
   ]
  },
  {
   "cell_type": "code",
   "execution_count": 51,
   "metadata": {
    "collapsed": false
   },
   "outputs": [
    {
     "data": {
      "text/plain": [
       "'Phone Number Entered into PhoneBook'"
      ]
     },
     "execution_count": 51,
     "metadata": {},
     "output_type": "execute_result"
    }
   ],
   "source": [
    "PhoneBook.insert(phone3)"
   ]
  },
  {
   "cell_type": "code",
   "execution_count": 52,
   "metadata": {
    "collapsed": false
   },
   "outputs": [
    {
     "data": {
      "text/plain": [
       "'Phone Number Entered into PhoneBook'"
      ]
     },
     "execution_count": 52,
     "metadata": {},
     "output_type": "execute_result"
    }
   ],
   "source": [
    "PhoneBook.insert(phone4)"
   ]
  },
  {
   "cell_type": "code",
   "execution_count": 7,
   "metadata": {
    "collapsed": false
   },
   "outputs": [
    {
     "data": {
      "text/plain": [
       "dict_items([(2, {2: {4: {6: {2: {9: {7: {5: {2: {5: {'me': {'#': {}}}}}}}}}}}})])"
      ]
     },
     "execution_count": 7,
     "metadata": {},
     "output_type": "execute_result"
    }
   ],
   "source": [
    "PhoneBook.data.items()"
   ]
  },
  {
   "cell_type": "code",
   "execution_count": 8,
   "metadata": {
    "collapsed": false
   },
   "outputs": [
    {
     "ename": "AttributeError",
     "evalue": "'Trie' object has no attribute 'lookup'",
     "output_type": "error",
     "traceback": [
      "\u001b[0;31m---------------------------------------------------------------------------\u001b[0m",
      "\u001b[0;31mAttributeError\u001b[0m                            Traceback (most recent call last)",
      "\u001b[0;32m<ipython-input-8-7579b0c0b670>\u001b[0m in \u001b[0;36m<module>\u001b[0;34m()\u001b[0m\n\u001b[0;32m----> 1\u001b[0;31m \u001b[0mPhoneBook\u001b[0m\u001b[1;33m.\u001b[0m\u001b[0mlookup\u001b[0m\u001b[1;33m(\u001b[0m\u001b[1;33m)\u001b[0m\u001b[1;33m\u001b[0m\u001b[0m\n\u001b[0m",
      "\u001b[0;31mAttributeError\u001b[0m: 'Trie' object has no attribute 'lookup'"
     ]
    }
   ],
   "source": [
    "PhoneBook.lookup() ###FIX THIS"
   ]
  },
  {
   "cell_type": "code",
   "execution_count": null,
   "metadata": {
    "collapsed": true
   },
   "outputs": [],
   "source": []
  }
 ],
 "metadata": {
  "anaconda-cloud": {},
  "kernelspec": {
   "display_name": "Python [default]",
   "language": "python",
   "name": "python3"
  },
  "language_info": {
   "codemirror_mode": {
    "name": "ipython",
    "version": 3
   },
   "file_extension": ".py",
   "mimetype": "text/x-python",
   "name": "python",
   "nbconvert_exporter": "python",
   "pygments_lexer": "ipython3",
   "version": "3.5.2"
  }
 },
 "nbformat": 4,
 "nbformat_minor": 1
}
