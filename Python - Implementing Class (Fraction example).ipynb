{
 "cells": [
  {
   "cell_type": "code",
   "execution_count": 1,
   "metadata": {
    "collapsed": true
   },
   "outputs": [],
   "source": [
    "#Just create a class and fill it with the 4 usual methods(functions) of a class: Constructor, copy, and whatever\n",
    "#else is in the pic10 notebooks"
   ]
  },
  {
   "cell_type": "code",
   "execution_count": 2,
   "metadata": {
    "collapsed": true
   },
   "outputs": [],
   "source": [
    "#The operations for the Fraction type will allow a Fraction data object \n",
    "#to behave like any other numeric value. We need to be able to add, \n",
    "#subtract, multiply, and divide fractions. We also want to be able to \n",
    "#show fractions using the standard “slash” form, for example 3/5. In \n",
    "#addition, all fraction methods should return results in their lowest \n",
    "#terms so that no matter what computation is performed, we always end \n",
    "#up with the most common form."
   ]
  },
  {
   "cell_type": "code",
   "execution_count": 3,
   "metadata": {
    "collapsed": false
   },
   "outputs": [],
   "source": [
    "#creating fraction class. Keep editing this cell until finished.\n",
    "class Fraction:\n",
    "    #Constructor method. self must always be first parameter.\n",
    "    #self is never actually given a parameter value upon invocation\n",
    "    def __init__(self, top, bottom):\n",
    "        \n",
    "        self.num = top  #Creates internal var called num binded to top\n",
    "        self.den = bottom\n",
    "    \n",
    "    def __str__(self): #to be able to print the fraction as a string\n",
    "        \n",
    "        return str(self.num)+\"/\"+str(self.den)\n",
    "    \n",
    "    def __add__(self, other): #a/b + c/d = (ad + cb)/bd!!!\n",
    "        \n",
    "        new_num = self.num*other.den + other.num*self.den\n",
    "        new_den = self.den*other.den\n",
    "        common = gcd(new_num, new_den)\n",
    "        return Fraction(new_num//common,new_den//common)\n",
    "    \n",
    "    def __eq__(self,other): #equlity by value, not just reference\n",
    "        \n",
    "        ad = self.num*other.den\n",
    "        cb = other.num*self.den\n",
    "        \n",
    "        return ad == cb #that's some elegant shite there aye\n",
    "    \n",
    "    def __sub__(self,other): # a/b - c/d = (ad - cb)/bd\n",
    "               \n",
    "        new_num = self.num*other.den - other.num*self.den\n",
    "        new_den = self.den*other.den\n",
    "        common = gcd(new_num, new_den)\n",
    "        \n",
    "        return Fraction(new_num//common, new_den//common)\n",
    "    \n",
    "    def __mul__(self,other): #a/b * c/d = ac/bd. Remember gcd!\n",
    "        \n",
    "        new_num = self.num*other.num\n",
    "        new_den = self.den*other.den\n",
    "        common = gcd(new_num, new_den)\n",
    "        \n",
    "        return Fraction(new_num//common, new_den//common)\n",
    "    \n",
    "    def __truediv__(self,other): #(a/b) / (c/d) = ad/bc\n",
    "        \n",
    "        new_num = self.num*other.den\n",
    "        new_den = other.num*self.den\n",
    "        common = gcd(new_num, new_den)\n",
    "        \n",
    "        return Fraction(new_num//common, new_den//common)\n",
    "    \n",
    "    def __lt__(self,other): #less than operator <\n",
    "        \n",
    "        dec1 = self.num/self.den\n",
    "        dec2 = other.num/other.den\n",
    "    \n",
    "        return (dec1 < dec2)\n",
    "        \n",
    "    def __gt__(self,other): #greater than operator >\n",
    "        \n",
    "        dec1 = self.num/self.den\n",
    "        dec2 = other.num/other.den\n",
    "        \n",
    "        return (dec1 > dec2)"
   ]
  },
  {
   "cell_type": "code",
   "execution_count": 4,
   "metadata": {
    "collapsed": true
   },
   "outputs": [],
   "source": [
    "#helper function to find greatest common divisor so we can reduce our\n",
    "#fractions to their simplest form (iterative form of Euclid's algorithm)\n",
    "def gcd(m,n):\n",
    "    while m%n != 0:\n",
    "        oldm = m\n",
    "        oldn = n\n",
    "        \n",
    "        m = oldn\n",
    "        n = oldm%oldn\n",
    "    return n"
   ]
  },
  {
   "cell_type": "code",
   "execution_count": 5,
   "metadata": {
    "collapsed": true
   },
   "outputs": [],
   "source": [
    "fraction1 = Fraction(5,7)"
   ]
  },
  {
   "cell_type": "code",
   "execution_count": 6,
   "metadata": {
    "collapsed": false
   },
   "outputs": [
    {
     "name": "stdout",
     "output_type": "stream",
     "text": [
      "5/7\n"
     ]
    }
   ],
   "source": [
    "print (fraction1) #Why is it printing the address of the object?"
   ]
  },
  {
   "cell_type": "code",
   "execution_count": 7,
   "metadata": {
    "collapsed": false
   },
   "outputs": [
    {
     "data": {
      "text/plain": [
       "'5/7'"
      ]
     },
     "execution_count": 7,
     "metadata": {},
     "output_type": "execute_result"
    }
   ],
   "source": [
    "fraction1.__str__() #__str__() method converts objects to string. \n",
    "#We need to overload the method by redefining it in our Fraction class."
   ]
  },
  {
   "cell_type": "code",
   "execution_count": 8,
   "metadata": {
    "collapsed": false
   },
   "outputs": [
    {
     "name": "stdout",
     "output_type": "stream",
     "text": [
      "5/7\n"
     ]
    }
   ],
   "source": [
    "print(fraction1) #Tried to overload print, couldn't. Figure out why:\n",
    "#def print(self):\n",
    "#     print (self.num + \"/\" + self.den)\n",
    "#Output was address of fraction object."
   ]
  },
  {
   "cell_type": "code",
   "execution_count": 9,
   "metadata": {
    "collapsed": false
   },
   "outputs": [
    {
     "name": "stdout",
     "output_type": "stream",
     "text": [
      "5/7\n",
      "I'll give that a 5/7\n"
     ]
    }
   ],
   "source": [
    "print(fraction1) #I'm assuming the print method uses __str__ and since\n",
    "#we overloaded __str__ for our fraction class, print works now too\n",
    "\n",
    "print (\"I'll give that a\", fraction1) #kek"
   ]
  },
  {
   "cell_type": "code",
   "execution_count": 10,
   "metadata": {
    "collapsed": false
   },
   "outputs": [
    {
     "data": {
      "text/plain": [
       "'5/7'"
      ]
     },
     "execution_count": 10,
     "metadata": {},
     "output_type": "execute_result"
    }
   ],
   "source": [
    "str(fraction1)"
   ]
  },
  {
   "cell_type": "code",
   "execution_count": 11,
   "metadata": {
    "collapsed": false
   },
   "outputs": [
    {
     "data": {
      "text/plain": [
       "'5/7'"
      ]
     },
     "execution_count": 11,
     "metadata": {},
     "output_type": "execute_result"
    }
   ],
   "source": [
    "fraction1.__str__() #just use this, don't use the one above for \n",
    "#consistency's sake"
   ]
  },
  {
   "cell_type": "code",
   "execution_count": 12,
   "metadata": {
    "collapsed": false
   },
   "outputs": [
    {
     "name": "stdout",
     "output_type": "stream",
     "text": [
      "3/4\n"
     ]
    }
   ],
   "source": [
    "f1 = Fraction(1,4)\n",
    "f2 = Fraction(1,2)\n",
    "f3 = f1+f2 #gotta overload the operators now\n",
    "print(f3)\n",
    "\n",
    "#NOTE: This method doesn't reduce the fractions at all. We'd need a \n",
    "#helper function to go along with this"
   ]
  },
  {
   "cell_type": "code",
   "execution_count": 13,
   "metadata": {
    "collapsed": false
   },
   "outputs": [
    {
     "name": "stdout",
     "output_type": "stream",
     "text": [
      "3/4\n"
     ]
    }
   ],
   "source": [
    "f_1 = Fraction(1,4)\n",
    "f_2 = Fraction(1,2)\n",
    "f_3 = f_1 + f_2\n",
    "print(f_3) #and boom goes the dynamite"
   ]
  },
  {
   "cell_type": "code",
   "execution_count": 14,
   "metadata": {
    "collapsed": false
   },
   "outputs": [
    {
     "name": "stdout",
     "output_type": "stream",
     "text": [
      "True\n"
     ]
    }
   ],
   "source": [
    "f_4 = Fraction(3,4)\n",
    "if (f_3 == f_4):\n",
    "    print ('True')\n",
    "else: print('Nope') #These aren't Boolean equal because they're in a \n",
    "    #state of 'shallow equality'. Meaning two fractions from our\n",
    "    #Fraction class are only going to be Boolean equal if two names\n",
    "    #reference the same object. To have our Fraction display 'deep \n",
    "    #equality', we need to overload the __eq__ operator!"
   ]
  },
  {
   "cell_type": "code",
   "execution_count": 15,
   "metadata": {
    "collapsed": false
   },
   "outputs": [
    {
     "name": "stdout",
     "output_type": "stream",
     "text": [
      "True\n"
     ]
    }
   ],
   "source": [
    "f5 = Fraction(3,4)\n",
    "f6 = Fraction(6,8)\n",
    "print (f5 == f6) #and again, boom goes the dynomaiiitteee"
   ]
  },
  {
   "cell_type": "code",
   "execution_count": 16,
   "metadata": {
    "collapsed": false
   },
   "outputs": [],
   "source": [
    "#alrighty, time to do subtraction:\n",
    "f7 = Fraction(1,2)\n",
    "f8 = Fraction(2,3)\n",
    "f9= f7-f8"
   ]
  },
  {
   "cell_type": "code",
   "execution_count": 17,
   "metadata": {
    "collapsed": false
   },
   "outputs": [
    {
     "name": "stdout",
     "output_type": "stream",
     "text": [
      "1/6\n"
     ]
    }
   ],
   "source": [
    "f_7 = Fraction(1,2)\n",
    "f_8 = Fraction(2,3)\n",
    "f_9 = f_8 - f_7\n",
    "print(f_9)"
   ]
  },
  {
   "cell_type": "code",
   "execution_count": 18,
   "metadata": {
    "collapsed": false
   },
   "outputs": [
    {
     "name": "stdout",
     "output_type": "stream",
     "text": [
      "1/3\n"
     ]
    }
   ],
   "source": [
    "#multiplication:\n",
    "g1 = Fraction(1,2)\n",
    "g2 = Fraction(2,3)\n",
    "g3 = g1*g2\n",
    "print(g3)"
   ]
  },
  {
   "cell_type": "code",
   "execution_count": 19,
   "metadata": {
    "collapsed": false
   },
   "outputs": [
    {
     "name": "stdout",
     "output_type": "stream",
     "text": [
      "3/4\n"
     ]
    }
   ],
   "source": [
    "#true division\n",
    "g4 = Fraction(1,2)\n",
    "g5 = Fraction(2,3)\n",
    "g6 = g4/g5\n",
    "print (g6)"
   ]
  },
  {
   "cell_type": "code",
   "execution_count": 20,
   "metadata": {
    "collapsed": false
   },
   "outputs": [
    {
     "name": "stdout",
     "output_type": "stream",
     "text": [
      "True\n",
      "False\n"
     ]
    }
   ],
   "source": [
    "h1 = Fraction(1,2)\n",
    "h2 = Fraction(2,3)\n",
    "print (h1 < h2)\n",
    "print (h2 < h1) #HAH I\"M AWESOME"
   ]
  },
  {
   "cell_type": "code",
   "execution_count": 21,
   "metadata": {
    "collapsed": false
   },
   "outputs": [
    {
     "name": "stdout",
     "output_type": "stream",
     "text": [
      "True\n",
      "False\n"
     ]
    }
   ],
   "source": [
    "h3 = Fraction(1,2)\n",
    "h4 = Fraction(2,3)\n",
    "print (h2 > h1)\n",
    "print (h1 > h2) #WOO"
   ]
  },
  {
   "cell_type": "code",
   "execution_count": null,
   "metadata": {
    "collapsed": true
   },
   "outputs": [],
   "source": []
  }
 ],
 "metadata": {
  "anaconda-cloud": {},
  "kernelspec": {
   "display_name": "Python [default]",
   "language": "python",
   "name": "python3"
  },
  "language_info": {
   "codemirror_mode": {
    "name": "ipython",
    "version": 3
   },
   "file_extension": ".py",
   "mimetype": "text/x-python",
   "name": "python",
   "nbconvert_exporter": "python",
   "pygments_lexer": "ipython3",
   "version": "3.5.2"
  }
 },
 "nbformat": 4,
 "nbformat_minor": 1
}
