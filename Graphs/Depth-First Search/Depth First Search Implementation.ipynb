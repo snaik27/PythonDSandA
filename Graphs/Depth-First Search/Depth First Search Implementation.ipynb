{
 "cells": [
  {
   "cell_type": "markdown",
   "metadata": {},
   "source": [
    "Graph searching! Three types, descriptions:\n",
    "- Depth-First Search: Visit first node, then iterate thru each of it's neighbors. When visiting a neighor of a, visit all of that node's neighbors and so on. If a node as been visited already, don't revisit it. By that I mean mark that node somehow, or put it into a list. Maybe cook it in a stew... Pre/Post/InOrder() tree searching are all forms of DFS. So yeah, recursion. But modified to not revisit nodes, not that you can revisit nodes in a normal tree anyway. BUT you can visit a node that looks exactly like another already-computed node in a tree. So maybe cache(is that the word?) nodes for tree-computation so you don't have to constantly be computing the same node again and again. \n",
    "    \n",
    "    1a. APPLICATIONS: Maze solving, path finding, figuring out if a graph is bipartite. Side-note: Check out wiki page on bipartite graphs, definition mentions something about (U,V) disjoint sets. \n",
    "\n",
    "\n",
    "- Breadth-First Search: Visit node a, visit then its neighbors. Then its neighbors neighbors. And so on. So visiting a node put's that node's neighbors into queue. Literally. Might as well ALWAYS mark the already-visited ones in case there's a cycle. \n",
    "  \n",
    "  2a. APPLICATIONS: TERRIBLY inefficient navigation system(Look into djikstra's? We had to do that by hand in like...algebra2 or something. Maybe that is a BFS...idk I'll look into it later). actually useful examples: \"Flood fill\", or any viral growth pattern(see that sounds sick), figuring out if a graph is bipartite(maybe combo this with DFS somehow?).\n",
    "  \n",
    "- Bidirectional search: Running two simultaneous BFS. One from the root node and one from the target node. Alright that answers the single-direction BFS frustration. Learn all the 'advanced topics' search algorithms because DFS and BFS look next-level boring"
   ]
  },
  {
   "cell_type": "code",
   "execution_count": null,
   "metadata": {
    "collapsed": true
   },
   "outputs": [],
   "source": [
    "###Changes to Node Class from original implementation:\n",
    "1. added self.visted = False to __init__\n",
    "2. added name = None default to __init__\n",
    "3. added wasVisited method \n",
    "\n",
    "###Changes to Graph Class from original implementation:\n",
    "1. added weight default as 0 in addEdge method\n"
   ]
  },
  {
   "cell_type": "code",
   "execution_count": 26,
   "metadata": {
    "collapsed": true
   },
   "outputs": [],
   "source": [
    "class Node:\n",
    "    \n",
    "    def __init__(self, name = None):\n",
    "        self.name = name #Optional parameter sets default name to None\n",
    "        self.connections = {} #Empty dictionary for adjancency connections\n",
    "        self.visited = False\n",
    "        \n",
    "        ###self.connections.keys() ARE NODES\n",
    "        \n",
    "    def addConnection(self, toVert, weight = 0): #adds a connection to the the connections dict \n",
    "        self.connections[toVert] = weight\n",
    "    \n",
    "    def wasVisited(self): #Returns True if node wasVisited\n",
    "        return self.visited\n",
    "        \n",
    "    def showConnections(self): \n",
    "        vertlist = []\n",
    "        for node in list(self.connections.keys()):\n",
    "            node = str(node.name)\n",
    "            vertlist.append(node)\n",
    "        weightlist = []\n",
    "        for weight in list(self.connections.values()):\n",
    "            weight = str(weight)\n",
    "            weightlist.append(weight)\n",
    "        for i in range(len(vertlist)):\n",
    "            print (str(self.name) + \" connects to: \" + vertlist[i] + \" with weight: \" + weightlist[i] + \"\\n\")\n",
    "        ###updated showConnections method took a lot of trial and error. Helped learn how the str()\n",
    "        ###and list methods work. Now showConnections works with graphNodes that are named as ints or strings"
   ]
  },
  {
   "cell_type": "code",
   "execution_count": 47,
   "metadata": {
    "collapsed": true
   },
   "outputs": [],
   "source": [
    "class Graph:\n",
    "    \n",
    "    def __init__(self): \n",
    "        self.vertices = {} #Empty dict of keys(vertex names) and values (vertex Nodes)\n",
    "        self.size = len(self.vertices.keys()) #sets graph size to number of vertices in the graph\n",
    "        \n",
    "    def addVertex(self, vert): #adds new Vertex to the graph\n",
    "        temp = Node(vert)\n",
    "        self.vertices[vert] = temp \n",
    "        \n",
    "    def addEdge(self, fromVert, toVert, weight = None):#parameters are strings. Optional weight parameter\n",
    "        if (fromVert in self.vertices.keys()):\n",
    "            fromNode = self.vertices[fromVert] #fromTemp binds to fromVert's actual Node\n",
    "        else:\n",
    "            return (\"fromVert\" + str(fromVert) + \"does not exist\") #error checking for automated edge-adding\n",
    "        if (toVert in self.vertices.keys()):\n",
    "            toNode = self.vertices[toVert] #toTemp binds to toVert's actual node\n",
    "        else:\n",
    "            return (\"toVert \" + str(toVert) + \" does not exist\")\n",
    "        fromNode.addConnection(toNode, weight)\n",
    "                        \n",
    "    def getVertices(self):\n",
    "        print (self.vertices.keys())\n",
    "        \n",
    "    def getVertex(self, vert):\n",
    "        return self.vertices[vert]\n",
    "        \n",
    "    def __contains__(self, n): #Not sure why we need to overload this method, I'll figure that out\n",
    "        return n in self.vertices\n",
    "    \n",
    "    def __iter__(self): #Don't know why this needs to be overloaded either\n",
    "        return iter(self.vertices.values())\n",
    "    \n",
    "    def DFS(self, rootNode, pathList): #Let's implement it to find paths\n",
    "        if (rootNode == None):\n",
    "            return (\"DFS done\")\n",
    "        pathList.append(rootNode.name)\n",
    "        rootNode.visited = True\n",
    "        for vert in list(rootNode.connections.keys()):\n",
    "            if (vert.visited == False):\n",
    "                self.DFS(vert, pathList)\n",
    "    "
   ]
  },
  {
   "cell_type": "code",
   "execution_count": 324,
   "metadata": {
    "collapsed": true
   },
   "outputs": [],
   "source": [
    "myGraph = Graph()"
   ]
  },
  {
   "cell_type": "code",
   "execution_count": 325,
   "metadata": {
    "collapsed": true
   },
   "outputs": [],
   "source": [
    "for i in range(6):\n",
    "    myGraph.addVertex(i)"
   ]
  },
  {
   "cell_type": "code",
   "execution_count": 326,
   "metadata": {
    "collapsed": false
   },
   "outputs": [],
   "source": [
    "myGraph.addEdge(0,1,1)\n",
    "myGraph.addEdge(0,4,1)\n",
    "myGraph.addEdge(0,5,1)\n",
    "myGraph.addEdge(1,3,1)\n",
    "myGraph.addEdge(1,4,1)\n",
    "myGraph.addEdge(2,1,1)\n",
    "myGraph.addEdge(3,2,1)\n",
    "myGraph.addEdge(3,4,1)"
   ]
  },
  {
   "cell_type": "code",
   "execution_count": 327,
   "metadata": {
    "collapsed": false
   },
   "outputs": [],
   "source": [
    "myGraph.DFS(myGraph.vertices[0],pathlist1)"
   ]
  },
  {
   "cell_type": "code",
   "execution_count": 274,
   "metadata": {
    "collapsed": false
   },
   "outputs": [],
   "source": [
    "pathList = []\n",
    "pathlist1 = []\n",
    "pathlist2 = []\n",
    "pathlist3 = []\n",
    "pathlist4 = []\n",
    "pathlist5 = []\n",
    "pathlist6 = []"
   ]
  },
  {
   "cell_type": "code",
   "execution_count": 328,
   "metadata": {
    "collapsed": false
   },
   "outputs": [
    {
     "name": "stdout",
     "output_type": "stream",
     "text": [
      "[0, 5, 1, 3, 2, 4]\n",
      "[0, 5, 1, 3, 4, 2]\n",
      "[0, 1, 3, 2, 4, 5]\n",
      "[0, 1, 3, 4, 2, 5]\n",
      "[0, 4, 1, 3, 2, 5]\n",
      "[0, 1, 3, 4, 2, 5]\n",
      "[0, 4, 1, 3, 2, 5]\n"
     ]
    }
   ],
   "source": [
    "print (pathList)\n",
    "print (pathlist1)\n",
    "print (pathlist2)\n",
    "print (pathlist3)\n",
    "print (pathlist4)\n",
    "print (pathlist5)\n",
    "print (pathlist6)"
   ]
  },
  {
   "cell_type": "markdown",
   "metadata": {},
   "source": [
    "FIGURE. OUT. WHY. THE. DEPTH. FIRST. SEARCH. GOES. IN. RANDOM. BUT. STILL. CORRECT. DIRECTIONS. PLEASE.\n",
    "\n",
    "Possibilities: \n",
    "1. need to specify weights and for the search to go in order of certain weights\n",
    "2. need to order connections.keys() by values\n",
    "3. need to smash my keyboard a little bit\n",
    "4. need to train harder\n",
    "5. need to relax a little more\n",
    "6. need to disregard 3,4, 5, and 7\n",
    "7. need to disregard 1,2, and 6"
   ]
  },
  {
   "cell_type": "code",
   "execution_count": null,
   "metadata": {
    "collapsed": true
   },
   "outputs": [],
   "source": []
  }
 ],
 "metadata": {
  "anaconda-cloud": {},
  "kernelspec": {
   "display_name": "Python [default]",
   "language": "python",
   "name": "python3"
  },
  "language_info": {
   "codemirror_mode": {
    "name": "ipython",
    "version": 3
   },
   "file_extension": ".py",
   "mimetype": "text/x-python",
   "name": "python",
   "nbconvert_exporter": "python",
   "pygments_lexer": "ipython3",
   "version": "3.5.2"
  }
 },
 "nbformat": 4,
 "nbformat_minor": 1
}
