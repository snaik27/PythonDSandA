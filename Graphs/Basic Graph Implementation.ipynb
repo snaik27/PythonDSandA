{
 "cells": [
  {
   "cell_type": "markdown",
   "metadata": {},
   "source": [
    "Graph operations:\n",
    "1. Graph(): creates a new, empty graph. Need node class b/c you can't necessarily reach all graphNodes from any other node like you could in a tree\n",
    "2. addVertex(vert): adds a new Vertex to the graph\n",
    "3. addEdge(fromVert, toVert): adds a new, directed edge to the graph that connects two verticies\n",
    "4. addEdge(fromVert, toVert, weight): adds a new, weighted, directed edge to the graph that connects two vertices\n",
    "5. getVertex(vertKey): finds the vertex, called vertKey, in the graph\n",
    "6. getVertices(): returns list of all vertices in the graph\n",
    "7. in: returns True for a statement of the form 'vertex in graph', if the given vertex is in the graph. Returns False o/w"
   ]
  },
  {
   "cell_type": "code",
   "execution_count": 443,
   "metadata": {
    "collapsed": false
   },
   "outputs": [],
   "source": [
    "class Graph:\n",
    "    \n",
    "    def __init__(self): \n",
    "        self.vertices = {} #Empty dict of keys(vertex names) and values (vertex Nodes)\n",
    "        self.size = len(self.vertices.keys()) #sets graph size to number of vertices in the graph\n",
    "        \n",
    "    def addVertex(self, vert): #adds new Vertex to the graph\n",
    "        temp = Node(vert)\n",
    "        self.vertices[vert] = temp \n",
    "        \n",
    "    def addEdge(self, fromVert, toVert, weight):#parameters are strings\n",
    "        if (fromVert in self.vertices.keys()):\n",
    "            fromNode = self.vertices[fromVert] #fromTemp binds to fromVert's actual Node\n",
    "        else:\n",
    "            return (\"fromVert\" + str(fromVert) + \"does not exist\") #error checking for automated edge-adding\n",
    "        if (toVert in self.vertices.keys()):\n",
    "            toNode = self.vertices[toVert] #toTemp binds to toVert's actual node\n",
    "        else:\n",
    "            return (\"toVert \" + str(toVert) + \" does not exist\")\n",
    "        fromNode.addConnection(toNode, weight)\n",
    "                        \n",
    "    def getVertices(self):\n",
    "        print (self.vertices.keys())\n",
    "        \n",
    "    def getVertex(self, vert):\n",
    "        return self.vertices[vert]\n",
    "        \n",
    "    def __contains__(self, n): #Not sure why we need to overload this method, I'll figure that out\n",
    "        return n in self.vertices\n",
    "    \n",
    "    def __iter__(self): #Don't know why this needs to be overloaded either\n",
    "        return iter(self.vertices.values())\n",
    "    "
   ]
  },
  {
   "cell_type": "code",
   "execution_count": 444,
   "metadata": {
    "collapsed": false
   },
   "outputs": [],
   "source": [
    "class Node:\n",
    "    \n",
    "    def __init__(self, name):\n",
    "        self.name = name #Optional parameter sets default name to None\n",
    "        self.connections = {} #Empty dictionary for adjancency connections\n",
    "        \n",
    "        ###self.connections.keys() ARE NODES\n",
    "        \n",
    "    def addConnection(self, toVert, weight = 0): #adds a connection to the the connections dict \n",
    "        self.connections[toVert] = weight\n",
    "        \n",
    "    def showConnections(self): \n",
    "        vertlist = []\n",
    "        for node in list(self.connections.keys()):\n",
    "            node = str(node.name)\n",
    "            vertlist.append(node)\n",
    "        weightlist = []\n",
    "        for weight in list(self.connections.values()):\n",
    "            weight = str(weight)\n",
    "            weightlist.append(weight)\n",
    "        for i in range(len(vertlist)):\n",
    "            print (str(self.name) + \" connects to: \" + vertlist[i] + \" with weight: \" + weightlist[i] + \"\\n\")\n",
    "        ###updated showConnections method took a lot of trial and error. Helped learn how the str()\n",
    "        ###and list methods work. Now showConnections works with graphNodes that are named as ints or strings"
   ]
  },
  {
   "cell_type": "markdown",
   "metadata": {},
   "source": [
    "This showConnections method only works if all the (node.name)s are strings:\n",
    "\n",
    " def showConnections(self):\n",
    "        vertlist = []\n",
    "        for node in list(self.connections.keys()):\n",
    "            vertlist.append(node.name)\n",
    "        weightlist = []\n",
    "        for weight in list(self.connections.values()):\n",
    "            weightlist.append(str(weight))\n",
    "        for i in range(len(vertlist)):\n",
    "            print (self.name + \" connects to: \" + vertlist[i] + \" with weight: \" + weightlist[i] + \"\\n\")"
   ]
  },
  {
   "cell_type": "code",
   "execution_count": 445,
   "metadata": {
    "collapsed": false
   },
   "outputs": [],
   "source": [
    "myGraph = Graph()"
   ]
  },
  {
   "cell_type": "code",
   "execution_count": 446,
   "metadata": {
    "collapsed": false
   },
   "outputs": [],
   "source": [
    "myGraph.addVertex('v0')"
   ]
  },
  {
   "cell_type": "code",
   "execution_count": 447,
   "metadata": {
    "collapsed": true
   },
   "outputs": [],
   "source": [
    "myGraph.addVertex('v1')"
   ]
  },
  {
   "cell_type": "code",
   "execution_count": 448,
   "metadata": {
    "collapsed": false
   },
   "outputs": [],
   "source": [
    "myGraph.addEdge('v0','v1', 1)"
   ]
  },
  {
   "cell_type": "code",
   "execution_count": 394,
   "metadata": {
    "collapsed": true
   },
   "outputs": [],
   "source": [
    "for i in range(7):\n",
    "    myGraph.addVertex(i)"
   ]
  },
  {
   "cell_type": "code",
   "execution_count": 395,
   "metadata": {
    "collapsed": false
   },
   "outputs": [],
   "source": [
    "for i in range(7):\n",
    "    myGraph.addEdge(0, i, i)\n",
    "\n"
   ]
  },
  {
   "cell_type": "code",
   "execution_count": 449,
   "metadata": {
    "collapsed": true
   },
   "outputs": [],
   "source": [
    "myGraph.addVertex('v2')\n",
    "myGraph.addVertex('v3')\n",
    "myGraph.addVertex('v4')\n",
    "myGraph.addVertex('v5')\n",
    "myGraph.addVertex('v6')"
   ]
  },
  {
   "cell_type": "code",
   "execution_count": 450,
   "metadata": {
    "collapsed": false
   },
   "outputs": [
    {
     "data": {
      "text/plain": [
       "'toVert v7 does not exist'"
      ]
     },
     "execution_count": 450,
     "metadata": {},
     "output_type": "execute_result"
    }
   ],
   "source": [
    "myGraph.addEdge('v0','v2',2)\n",
    "myGraph.addEdge('v0','v3',3)\n",
    "myGraph.addEdge('v0','v4',4)\n",
    "myGraph.addEdge('v0','v5',5)\n",
    "myGraph.addEdge('v0','v6',6)\n",
    "myGraph.addEdge('v0','v7',7)"
   ]
  },
  {
   "cell_type": "code",
   "execution_count": 451,
   "metadata": {
    "collapsed": false
   },
   "outputs": [
    {
     "name": "stdout",
     "output_type": "stream",
     "text": [
      "dict_keys(['v3', 'v1', 'v0', 'v6', 'v5', 'v4', 'v2'])\n"
     ]
    }
   ],
   "source": [
    "myGraph.getVertices()"
   ]
  },
  {
   "cell_type": "code",
   "execution_count": 452,
   "metadata": {
    "collapsed": false
   },
   "outputs": [
    {
     "name": "stdout",
     "output_type": "stream",
     "text": [
      "v0 connects to: v5 with weight: 5\n",
      "\n",
      "v0 connects to: v4 with weight: 4\n",
      "\n",
      "v0 connects to: v2 with weight: 2\n",
      "\n",
      "v0 connects to: v3 with weight: 3\n",
      "\n",
      "v0 connects to: v1 with weight: 1\n",
      "\n",
      "v0 connects to: v6 with weight: 6\n",
      "\n"
     ]
    }
   ],
   "source": [
    "myGraph.getVertex('v0').showConnections()"
   ]
  },
  {
   "cell_type": "code",
   "execution_count": null,
   "metadata": {
    "collapsed": true
   },
   "outputs": [],
   "source": []
  },
  {
   "cell_type": "code",
   "execution_count": null,
   "metadata": {
    "collapsed": true
   },
   "outputs": [],
   "source": []
  }
 ],
 "metadata": {
  "kernelspec": {
   "display_name": "Python [default]",
   "language": "python",
   "name": "python3"
  },
  "language_info": {
   "codemirror_mode": {
    "name": "ipython",
    "version": 3
   },
   "file_extension": ".py",
   "mimetype": "text/x-python",
   "name": "python",
   "nbconvert_exporter": "python",
   "pygments_lexer": "ipython3",
   "version": "3.5.2"
  }
 },
 "nbformat": 4,
 "nbformat_minor": 1
}
