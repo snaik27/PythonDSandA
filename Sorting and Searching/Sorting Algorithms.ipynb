{
 "cells": [
  {
   "cell_type": "code",
   "execution_count": 150,
   "metadata": {
    "collapsed": true
   },
   "outputs": [],
   "source": [
    "intlist = [54,26,93,17,77,31,44,55,20]"
   ]
  },
  {
   "cell_type": "code",
   "execution_count": 151,
   "metadata": {
    "collapsed": true
   },
   "outputs": [],
   "source": [
    "intlist1 = [54,26,93,17,77,31,44,55,20,54,26,93,17,77,31,44,55,20,54,26,93,17,77,31,44,55,20]"
   ]
  },
  {
   "cell_type": "code",
   "execution_count": 92,
   "metadata": {
    "collapsed": false
   },
   "outputs": [],
   "source": [
    "###Starting at the beginning of the array and swapping the first two elements if the \n",
    "###first is greater than the second. Then, go to the next pair, and so on\n",
    "###continuously making sweeps of the array until it is sorted\n",
    "###Runtime O(n^2)\n",
    "def bubbleSort(intlist):\n",
    "    comparisons = 0\n",
    "    for i in range(len(intlist) - 1, 0, -1):\n",
    "        comparisons = comparisons + 1\n",
    "        \n",
    "        for j in range(i):\n",
    "            comparisons = comparisons + 1\n",
    "            \n",
    "            if (intlist[j] > intlist[j + 1]):\n",
    "                temp = intlist[j]\n",
    "                intlist[j] = intlist[j + 1]\n",
    "                intlist[j + 1] = temp\n",
    "    print(\"comparisons: \" + str(comparisons))\n",
    "    print(\"intlist: \" + str(intlist))"
   ]
  },
  {
   "cell_type": "code",
   "execution_count": 93,
   "metadata": {
    "collapsed": false
   },
   "outputs": [
    {
     "name": "stdout",
     "output_type": "stream",
     "text": [
      "comparisons: 44\n",
      "intlist: [17, 20, 26, 31, 44, 54, 55, 77, 93]\n"
     ]
    }
   ],
   "source": [
    "bubbleSort(intlist)"
   ]
  },
  {
   "cell_type": "code",
   "execution_count": 94,
   "metadata": {
    "collapsed": false
   },
   "outputs": [
    {
     "name": "stdout",
     "output_type": "stream",
     "text": [
      "comparisons: 377\n",
      "intlist: [17, 17, 17, 20, 20, 20, 26, 26, 26, 31, 31, 31, 44, 44, 44, 54, 54, 54, 55, 55, 55, 77, 77, 77, 93, 93, 93]\n"
     ]
    }
   ],
   "source": [
    "bubbleSort(intlist1)"
   ]
  },
  {
   "cell_type": "code",
   "execution_count": 97,
   "metadata": {
    "collapsed": true
   },
   "outputs": [],
   "source": [
    "###Find the smallest element using a linear scan and move it to the\n",
    "###front by swapping it with the first element. Then find the second\n",
    "###smallest and move it, again doing a linear scan. Keep going until\n",
    "###sorted. \n",
    "###Runtime O(n^2)\n",
    "def selectionSort(intlist):\n",
    "    comparisons = 0\n",
    "    for i in range(len(intlist) - 1, 0, -1):\n",
    "        comparisons = comparisons + 1\n",
    "        \n",
    "        positionOfmax = 0\n",
    "        for j in range(i+1):  #i+1 b/c range stop is noninclusive!\n",
    "            comparisons = comparisons + 1\n",
    "            \n",
    "            if (intlist[j] > intlist[positionOfmax]):\n",
    "                positionOfmax = j\n",
    "                \n",
    "        temp = intlist[i]\n",
    "        intlist[i] = intlist[positionOfmax]\n",
    "        intlist[positionOfmax] = temp\n",
    "    print(\"comparisons: \" + str(comparisons))\n",
    "    print(\"intlist: \" + str(intlist))"
   ]
  },
  {
   "cell_type": "code",
   "execution_count": 98,
   "metadata": {
    "collapsed": false,
    "scrolled": true
   },
   "outputs": [
    {
     "name": "stdout",
     "output_type": "stream",
     "text": [
      "comparisons: 52\n",
      "intlist: [17, 20, 26, 31, 44, 54, 55, 77, 93]\n"
     ]
    }
   ],
   "source": [
    "selectionSort(intlist)"
   ]
  },
  {
   "cell_type": "code",
   "execution_count": 99,
   "metadata": {
    "collapsed": false
   },
   "outputs": [
    {
     "name": "stdout",
     "output_type": "stream",
     "text": [
      "comparisons: 403\n",
      "intlist: [17, 17, 17, 20, 20, 20, 26, 26, 26, 31, 31, 31, 44, 44, 44, 54, 54, 54, 55, 55, 55, 77, 77, 77, 93, 93, 93]\n"
     ]
    }
   ],
   "source": [
    "selectionSort(intlist1)"
   ]
  },
  {
   "cell_type": "code",
   "execution_count": 102,
   "metadata": {
    "collapsed": true
   },
   "outputs": [],
   "source": [
    "###Shell sort is pretty much an improved version of insertion sort. Begin\n",
    "###by \n",
    "\n",
    "def shellSort(intlist):\n",
    "    gap = len(intlist)//2 #gap b/w array values you sort\n",
    "    comparisons = 0\n",
    "    while (gap > 0):\n",
    "        comparisons = comparisons + 1\n",
    "        \n",
    "        for startPosition in range(gap, len(intlist)):\n",
    "            comparisons = comparisons + 1\n",
    "            \n",
    "            currentvalue = intlist[startPosition] #Set currentvalue and \n",
    "            currentposition = startPosition #currentpos to the next value in range\n",
    "            \n",
    "            while (currentposition >= gap) and (intlist[currentposition-gap] > currentvalue):\n",
    "                comparisons = comparisons + 1\n",
    "                \n",
    "                intlist[currentposition] = intlist[currentposition - gap]\n",
    "                currentposition = currentposition - gap \n",
    "                \n",
    "                \n",
    "            intlist[currentposition] = currentvalue\n",
    "            \n",
    "        gap = gap//2\n",
    "    print (\"comparisons: \" + str(comparisons))\n",
    "    print (\"intlist:\" + str(intlist))"
   ]
  },
  {
   "cell_type": "code",
   "execution_count": 103,
   "metadata": {
    "collapsed": false
   },
   "outputs": [
    {
     "name": "stdout",
     "output_type": "stream",
     "text": [
      "comparisons: 33\n",
      "intlist:[17, 20, 26, 31, 44, 54, 55, 77, 93]\n"
     ]
    }
   ],
   "source": [
    "shellSort(intlist)"
   ]
  },
  {
   "cell_type": "code",
   "execution_count": 104,
   "metadata": {
    "collapsed": false
   },
   "outputs": [
    {
     "name": "stdout",
     "output_type": "stream",
     "text": [
      "comparisons: 135\n",
      "intlist:[17, 17, 17, 20, 20, 20, 26, 26, 26, 31, 31, 31, 44, 44, 44, 54, 54, 54, 55, 55, 55, 77, 77, 77, 93, 93, 93]\n"
     ]
    }
   ],
   "source": [
    "shellSort(intlist1)"
   ]
  },
  {
   "cell_type": "code",
   "execution_count": 130,
   "metadata": {
    "collapsed": true
   },
   "outputs": [],
   "source": [
    "###Merge Sort divides the data in half, sorts each of those halves, then\n",
    "###merges them back together. Each of those halves has the same sorting\n",
    "###algorithm applied to it. Eventually, you are merging just two single \n",
    "###element data arrays. The 'merge' part does all the heavy lifting\n",
    "\n",
    "def mergeSort(intlist):\n",
    "    if (len(intlist) == 0) or (len(intlist) == 1):\n",
    "        return intlist #check if list is empty or has only 1 value\n",
    "    \n",
    "    else:\n",
    "        mid = len(intlist)//2 \n",
    "        left = mergeSort(intlist[:mid]) #recursively halve left half\n",
    "        right = mergeSort(intlist[mid:])#same for right half\n",
    "        return merge(left, right)  #use helper merge function to sort\n",
    "def merge(left, right):\n",
    "    helper = [] #helper array initialized empty to merge from the bottom up\n",
    "    while (len(left) != 0) and (len(right) != 0):\n",
    "        if (left[0] < right[0]):\n",
    "            helper.append(left[0])\n",
    "            left.remove(left[0])\n",
    "        \n",
    "        else:\n",
    "            helper.append(right[0])\n",
    "            right.remove(right[0])\n",
    "    \n",
    "    if (len(left) == 0):\n",
    "        helper += right\n",
    "    \n",
    "    else:\n",
    "        helper += left\n",
    "    \n",
    "    return helper\n",
    "\n"
   ]
  },
  {
   "cell_type": "code",
   "execution_count": 128,
   "metadata": {
    "collapsed": false
   },
   "outputs": [
    {
     "data": {
      "text/plain": [
       "[17, 20, 26, 31, 44, 54, 55, 77, 93]"
      ]
     },
     "execution_count": 128,
     "metadata": {},
     "output_type": "execute_result"
    }
   ],
   "source": [
    "mergeSort(intlist)"
   ]
  },
  {
   "cell_type": "code",
   "execution_count": 129,
   "metadata": {
    "collapsed": false
   },
   "outputs": [
    {
     "data": {
      "text/plain": [
       "[17,\n",
       " 17,\n",
       " 17,\n",
       " 20,\n",
       " 20,\n",
       " 20,\n",
       " 26,\n",
       " 26,\n",
       " 26,\n",
       " 31,\n",
       " 31,\n",
       " 31,\n",
       " 44,\n",
       " 44,\n",
       " 44,\n",
       " 54,\n",
       " 54,\n",
       " 54,\n",
       " 55,\n",
       " 55,\n",
       " 55,\n",
       " 77,\n",
       " 77,\n",
       " 77,\n",
       " 93,\n",
       " 93,\n",
       " 93]"
      ]
     },
     "execution_count": 129,
     "metadata": {},
     "output_type": "execute_result"
    }
   ],
   "source": [
    "mergeSort(intlist1)"
   ]
  },
  {
   "cell_type": "code",
   "execution_count": 140,
   "metadata": {
    "collapsed": true
   },
   "outputs": [],
   "source": [
    "###Quick Sort works by choosing a 'pivotvalue' that acts as a middlevalue\n",
    "###It then chooses left and right position markers. Iterating towards the middle\n",
    "###from both sides, the partition helper method swaps intlist[leftmark] and\n",
    "###intlist[rightmark] when it finds the leftmark is greater than the pivotvalue\n",
    "###and the rightmark is less than the pivotvalue. quickSortHelper recursively\n",
    "###repeats this process on the left and right sides of the pivotvalue\n",
    "\n",
    "def quickSort(intlist):\n",
    "    quickSortHelper(intlist, 0, len(intlist) - 1)\n",
    "    print(intlist)\n",
    "    \n",
    "def quickSortHelper(intlist, first, last):\n",
    "    if (first < last):\n",
    "        \n",
    "        splitpoint = partition(intlist, first, last)\n",
    "        \n",
    "        quickSortHelper(intlist, first, splitpoint - 1)\n",
    "        quickSortHelper(intlist, splitpoint + 1, last)\n",
    "        \n",
    "def partition(intlist, first, last):\n",
    "    pivotvalue = intlist[first]\n",
    "    leftmark = first + 1\n",
    "    rightmark = last\n",
    "    \n",
    "    done = False\n",
    "    while not (done):\n",
    "        \n",
    "        while (leftmark <= rightmark) and (intlist[leftmark] <= pivotvalue):\n",
    "            leftmark = leftmark + 1\n",
    "        \n",
    "        while (intlist[rightmark] >= pivotvalue) and (rightmark >= leftmark):\n",
    "            rightmark = rightmark - 1\n",
    "            \n",
    "        if (rightmark < leftmark):\n",
    "            done = True\n",
    "            \n",
    "        else:\n",
    "            temp = intlist[leftmark]\n",
    "            intlist[leftmark] = intlist[rightmark]\n",
    "            intlist[rightmark] = temp\n",
    "            \n",
    "    temp = intlist[first]\n",
    "    intlist[first] = intlist[rightmark]\n",
    "    intlist[rightmark] = temp\n",
    "    \n",
    "    return rightmark\n"
   ]
  },
  {
   "cell_type": "code",
   "execution_count": 138,
   "metadata": {
    "collapsed": false
   },
   "outputs": [
    {
     "name": "stdout",
     "output_type": "stream",
     "text": [
      "[17, 20, 26, 31, 44, 54, 55, 77, 93]\n"
     ]
    }
   ],
   "source": [
    "quickSort(intlist)"
   ]
  },
  {
   "cell_type": "code",
   "execution_count": 139,
   "metadata": {
    "collapsed": false
   },
   "outputs": [
    {
     "name": "stdout",
     "output_type": "stream",
     "text": [
      "[17, 17, 17, 20, 20, 20, 26, 26, 26, 31, 31, 31, 44, 44, 44, 54, 54, 54, 55, 55, 55, 77, 77, 77, 93, 93, 93]\n"
     ]
    }
   ],
   "source": [
    "quickSort(intlist1)"
   ]
  }
 ],
 "metadata": {
  "anaconda-cloud": {},
  "kernelspec": {
   "display_name": "Python [default]",
   "language": "python",
   "name": "python3"
  },
  "language_info": {
   "codemirror_mode": {
    "name": "ipython",
    "version": 3
   },
   "file_extension": ".py",
   "mimetype": "text/x-python",
   "name": "python",
   "nbconvert_exporter": "python",
   "pygments_lexer": "ipython3",
   "version": "3.5.2"
  }
 },
 "nbformat": 4,
 "nbformat_minor": 1
}
