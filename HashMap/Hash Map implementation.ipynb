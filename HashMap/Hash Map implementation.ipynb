{
 "cells": [
  {
   "cell_type": "markdown",
   "metadata": {
    "collapsed": true
   },
   "source": [
    "Dictionaries are maps. (def): Unordered collection of associations between a key and a data value. They keys in a map are all unique so that there is a one-to-one relationship b/w a key and a value."
   ]
  },
  {
   "cell_type": "code",
   "execution_count": 25,
   "metadata": {
    "collapsed": false
   },
   "outputs": [],
   "source": [
    "class HashTable:\n",
    "    \n",
    "    def __init__(self):\n",
    "        self.size = 11 #arbitrary size, but use a prime number for it!\n",
    "       \n",
    "        self.mymap = {}\n",
    "        \n",
    "        #Dictionary with 11 \"slots\". Each key is paired with a different\n",
    "        #list variable. **DO NOT HAVE TO DEFINE ALL LIST SIZES IN THIS INIT, LOOK AT INSERT FX**\n",
    "        \n",
    "    def hashfunction(self, data):\n",
    "        sum = 0  #remainder method for strings\n",
    "        for pos in range(len(data)):\n",
    "            sum = sum + ord(data[pos])\n",
    "            \n",
    "        return sum%self.size #returns key (also called hashcode)\n",
    "        \n",
    "    def insert(self, data):\n",
    "        key = self.hashfunction(data) #\n",
    "        \n",
    "        if key not in self.mymap:\n",
    "            self.mymap[key] = []\n",
    "            self.mymap[key].append(data)\n",
    "        else:\n",
    "            self.mymap[key].append(data)\n",
    "    \n",
    "    def get(self, data): #show the list\n",
    "        key = self.hashfunction(data)\n",
    "        for pos in self.mymap[key]:\n",
    "            if (data == pos):\n",
    "                return (self.mymap[key])\n",
    "        return (\"Value not in map!\")\n",
    "            \n",
    "### 1) This only works on strings at the moment\n",
    "### Solution--> Remainder method works for ints too. All you need to do is change return sum%self.size to \n",
    "### return data%self.size. Or deal with exceptions by writing an if/else combo using the type() method\n",
    "\n",
    "### 2) There's still a next level amount of collisions, you need to write a new get fx to takes care of that\n",
    "### Solution--> Solution to large collisions(which is just a combination of using too much space and having a larger lookup\n",
    "### time) is to use a BST instead of a list as the value for key-value pairs. Only the needed space is used then\n",
    "### and lookup time is improved from O(n) to O(log(n)). Get AND insert functions would have to be updated for that\n"
   ]
  },
  {
   "cell_type": "code",
   "execution_count": 26,
   "metadata": {
    "collapsed": false
   },
   "outputs": [],
   "source": [
    "myhash = HashTable()"
   ]
  },
  {
   "cell_type": "code",
   "execution_count": 27,
   "metadata": {
    "collapsed": false
   },
   "outputs": [],
   "source": [
    "myhash.insert('doggo')"
   ]
  },
  {
   "cell_type": "code",
   "execution_count": 28,
   "metadata": {
    "collapsed": false
   },
   "outputs": [
    {
     "data": {
      "text/plain": [
       "['doggo']"
      ]
     },
     "execution_count": 28,
     "metadata": {},
     "output_type": "execute_result"
    }
   ],
   "source": [
    "myhash.get('doggo')"
   ]
  },
  {
   "cell_type": "code",
   "execution_count": 29,
   "metadata": {
    "collapsed": true
   },
   "outputs": [],
   "source": [
    "myhash.insert('good')"
   ]
  },
  {
   "cell_type": "code",
   "execution_count": 30,
   "metadata": {
    "collapsed": false
   },
   "outputs": [
    {
     "data": {
      "text/plain": [
       "['good']"
      ]
     },
     "execution_count": 30,
     "metadata": {},
     "output_type": "execute_result"
    }
   ],
   "source": [
    "myhash.get('good')"
   ]
  },
  {
   "cell_type": "code",
   "execution_count": 31,
   "metadata": {
    "collapsed": false
   },
   "outputs": [],
   "source": [
    "wordlist = ['food', 'pizza', 'curry', 'rice', 'paneer', 'sour cream', 'kitchen']"
   ]
  },
  {
   "cell_type": "code",
   "execution_count": 32,
   "metadata": {
    "collapsed": false
   },
   "outputs": [],
   "source": [
    "for word in wordlist:\n",
    "    myhash.insert(word)"
   ]
  },
  {
   "cell_type": "code",
   "execution_count": 33,
   "metadata": {
    "collapsed": false
   },
   "outputs": [
    {
     "data": {
      "text/plain": [
       "'Value not in map!'"
      ]
     },
     "execution_count": 33,
     "metadata": {},
     "output_type": "execute_result"
    }
   ],
   "source": [
    "myhash.get('scrub')"
   ]
  },
  {
   "cell_type": "code",
   "execution_count": 34,
   "metadata": {
    "collapsed": false
   },
   "outputs": [
    {
     "name": "stdout",
     "output_type": "stream",
     "text": [
      "{0: ['doggo'], 7: ['good'], 6: ['food'], 8: ['pizza', 'paneer', 'sour cream'], 4: ['curry'], 1: ['rice'], 5: ['kitchen']}\n"
     ]
    }
   ],
   "source": [
    "print (myhash.mymap)"
   ]
  },
  {
   "cell_type": "code",
   "execution_count": 35,
   "metadata": {
    "collapsed": false,
    "scrolled": true
   },
   "outputs": [
    {
     "data": {
      "text/plain": [
       "['food']"
      ]
     },
     "execution_count": 35,
     "metadata": {},
     "output_type": "execute_result"
    }
   ],
   "source": [
    "myhash.get('food')"
   ]
  },
  {
   "cell_type": "code",
   "execution_count": 36,
   "metadata": {
    "collapsed": false
   },
   "outputs": [
    {
     "data": {
      "text/plain": [
       "['pizza', 'paneer', 'sour cream']"
      ]
     },
     "execution_count": 36,
     "metadata": {},
     "output_type": "execute_result"
    }
   ],
   "source": [
    "myhash.get('paneer')"
   ]
  },
  {
   "cell_type": "code",
   "execution_count": 23,
   "metadata": {
    "collapsed": true
   },
   "outputs": [],
   "source": [
    "dog = 'doggo'"
   ]
  },
  {
   "cell_type": "code",
   "execution_count": 9,
   "metadata": {
    "collapsed": false
   },
   "outputs": [
    {
     "data": {
      "text/plain": [
       "str"
      ]
     },
     "execution_count": 9,
     "metadata": {},
     "output_type": "execute_result"
    }
   ],
   "source": [
    "type(dog)"
   ]
  },
  {
   "cell_type": "code",
   "execution_count": 11,
   "metadata": {
    "collapsed": false
   },
   "outputs": [
    {
     "name": "stdout",
     "output_type": "stream",
     "text": [
      "True\n"
     ]
    }
   ],
   "source": [
    "if (type(dog) == str):\n",
    "    print ('True')\n",
    "else:\n",
    "    print ('False')"
   ]
  },
  {
   "cell_type": "code",
   "execution_count": null,
   "metadata": {
    "collapsed": true
   },
   "outputs": [],
   "source": []
  }
 ],
 "metadata": {
  "anaconda-cloud": {},
  "kernelspec": {
   "display_name": "Python 3",
   "language": "python",
   "name": "python3"
  },
  "language_info": {
   "codemirror_mode": {
    "name": "ipython",
    "version": 3
   },
   "file_extension": ".py",
   "mimetype": "text/x-python",
   "name": "python",
   "nbconvert_exporter": "python",
   "pygments_lexer": "ipython3",
   "version": "3.6.0"
  }
 },
 "nbformat": 4,
 "nbformat_minor": 1
}
