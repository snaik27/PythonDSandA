{
 "cells": [
  {
   "cell_type": "markdown",
   "metadata": {
    "collapsed": true
   },
   "source": [
    "Dictionaries are maps. (def): Unordered collection of associations between a key and a data value. They keys in a map are all unique so that there is a one-to-one relationship b/w a key and a value."
   ]
  },
  {
   "cell_type": "code",
   "execution_count": 1,
   "metadata": {
    "collapsed": false
   },
   "outputs": [],
   "source": [
    "class HashTable:#initialized using two lists. One for keys, one for data\n",
    "    \n",
    "    def __init__(self):\n",
    "        self.size = 11 #arbitrary size, but use a prime number for it!\n",
    "       \n",
    "        self.mymap = {}\n",
    "        \n",
    "        #Dictionary with 7 slots. Each key is paired with a different\n",
    "        #list variable. **MIGHT HAVE TO DEFINE ALL LIST SIZES IN THIS INIT**\n",
    "        \n",
    "    def hashfunction(self, data):\n",
    "        sum = 0  #remainder method hashfunction\n",
    "        for pos in range(len(data)):\n",
    "            sum = sum + ord(data[pos])\n",
    "            \n",
    "        return sum%self.size #returns key (also called hashcode)\n",
    "        \n",
    "    def insert(self, data):\n",
    "        key = self.hashfunction(data) #\n",
    "        \n",
    "        if key not in self.mymap:\n",
    "            self.mymap[key] = []\n",
    "            self.mymap[key].append(data)\n",
    "        else:\n",
    "            self.mymap[key].append(data)\n",
    "    \n",
    "    def get(self, data): #show the list\n",
    "        key = self.hashfunction(data)\n",
    "        for pos in self.mymap[key]:\n",
    "            if (data == pos):\n",
    "                return (self.mymap[key])\n",
    "            else:\n",
    "                return (\"Value not in map!\")\n",
    "            \n",
    "###THIS ONLY WORKS FOR STRINGS AS OF YET AND THERES STILL A NEXT LEVEL AMOUNT OF COLLSIONS, NOT THAT IT MATTERS\n",
    "###BUT YOU NEED TO WRITE A GET FUNCTION THAT DEALS WITH THAT"
   ]
  },
  {
   "cell_type": "code",
   "execution_count": 2,
   "metadata": {
    "collapsed": false
   },
   "outputs": [],
   "source": [
    "myhash = HashTable()"
   ]
  },
  {
   "cell_type": "code",
   "execution_count": 3,
   "metadata": {
    "collapsed": false
   },
   "outputs": [],
   "source": [
    "myhash.insert('doggo')"
   ]
  },
  {
   "cell_type": "code",
   "execution_count": 4,
   "metadata": {
    "collapsed": false
   },
   "outputs": [
    {
     "data": {
      "text/plain": [
       "['doggo']"
      ]
     },
     "execution_count": 4,
     "metadata": {},
     "output_type": "execute_result"
    }
   ],
   "source": [
    "myhash.get('doggo')"
   ]
  },
  {
   "cell_type": "code",
   "execution_count": 5,
   "metadata": {
    "collapsed": true
   },
   "outputs": [],
   "source": [
    "myhash.insert('good')"
   ]
  },
  {
   "cell_type": "code",
   "execution_count": 6,
   "metadata": {
    "collapsed": false
   },
   "outputs": [
    {
     "data": {
      "text/plain": [
       "['good']"
      ]
     },
     "execution_count": 6,
     "metadata": {},
     "output_type": "execute_result"
    }
   ],
   "source": [
    "myhash.get('good')"
   ]
  },
  {
   "cell_type": "code",
   "execution_count": 7,
   "metadata": {
    "collapsed": false
   },
   "outputs": [],
   "source": [
    "wordlist = ['food', 'pizza', 'curry', 'rice', 'paneer', 'sour cream', 'kitchen']"
   ]
  },
  {
   "cell_type": "code",
   "execution_count": 8,
   "metadata": {
    "collapsed": false
   },
   "outputs": [],
   "source": [
    "for word in wordlist:\n",
    "    myhash.insert(word)"
   ]
  },
  {
   "cell_type": "code",
   "execution_count": 9,
   "metadata": {
    "collapsed": false
   },
   "outputs": [
    {
     "data": {
      "text/plain": [
       "'Value not in map!'"
      ]
     },
     "execution_count": 9,
     "metadata": {},
     "output_type": "execute_result"
    }
   ],
   "source": [
    "myhash.get('scrub')"
   ]
  },
  {
   "cell_type": "code",
   "execution_count": 10,
   "metadata": {
    "collapsed": false
   },
   "outputs": [
    {
     "name": "stdout",
     "output_type": "stream",
     "text": [
      "{0: ['doggo'], 1: ['rice'], 4: ['curry'], 5: ['kitchen'], 6: ['food'], 7: ['good'], 8: ['pizza', 'paneer', 'sour cream']}\n"
     ]
    }
   ],
   "source": [
    "print (myhash.mymap)"
   ]
  },
  {
   "cell_type": "code",
   "execution_count": 11,
   "metadata": {
    "collapsed": false
   },
   "outputs": [
    {
     "data": {
      "text/plain": [
       "['food']"
      ]
     },
     "execution_count": 11,
     "metadata": {},
     "output_type": "execute_result"
    }
   ],
   "source": [
    "myhash.get('food')"
   ]
  },
  {
   "cell_type": "code",
   "execution_count": null,
   "metadata": {
    "collapsed": true
   },
   "outputs": [],
   "source": []
  }
 ],
 "metadata": {
  "anaconda-cloud": {},
  "kernelspec": {
   "display_name": "Python [default]",
   "language": "python",
   "name": "python3"
  },
  "language_info": {
   "codemirror_mode": {
    "name": "ipython",
    "version": 3
   },
   "file_extension": ".py",
   "mimetype": "text/x-python",
   "name": "python",
   "nbconvert_exporter": "python",
   "pygments_lexer": "ipython3",
   "version": "3.5.2"
  }
 },
 "nbformat": 4,
 "nbformat_minor": 1
}
