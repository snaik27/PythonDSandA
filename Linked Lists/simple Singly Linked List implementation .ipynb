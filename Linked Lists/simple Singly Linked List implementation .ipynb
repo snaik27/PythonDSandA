{
 "cells": [
  {
   "cell_type": "code",
   "execution_count": 27,
   "metadata": {
    "collapsed": true
   },
   "outputs": [],
   "source": [
    "class Node: #Create node class first\n",
    "    \n",
    "    def __init__(self): #Constructor that creates new empty node\n",
    "        self.data = None\n",
    "        self.next = None\n",
    "    \n",
    "    def __init__(self, item): #Constructor that creates new node with item to fill node\n",
    "        self.data = item\n",
    "        self.next = None\n",
    "    \n",
    "    def get_data(self): #Returns node.data even if it is of type None\n",
    "        return self.data\n",
    "            \n",
    "    def get_next(self): #Returns node.next, even if it is of type None\n",
    "        return self.next\n",
    "    \n",
    "    def set_data(self, new_item): #sets node.data \n",
    "        self.data = new_item\n",
    "        \n",
    "    def set_next(self, new_next): #sets node.next\n",
    "        self.next = new_next"
   ]
  },
  {
   "cell_type": "code",
   "execution_count": 85,
   "metadata": {
    "collapsed": true
   },
   "outputs": [],
   "source": [
    "class UnorderedList: #Singly Linked list must point to head of list\n",
    "    \n",
    "    def __init__(self): #Constructor for LinkedList head\n",
    "        self.head = None\n",
    "        \n",
    "    def isEmpty(self): #Returns boolean if linkedlist isEmpty\n",
    "        return self.head == None \n",
    "    \n",
    "    def add(self, item): #Adds an item to beginning of the list\n",
    "        temp = Node(item)\n",
    "        temp.set_next(self.head)\n",
    "        self.head = temp\n",
    "        ###Changes list.head reference to the new item. old head is now\n",
    "        ###second item in list. New head.next points to old.head.data\n",
    "    \n",
    "    def size(self): #linked list traversal to count number of nodes\n",
    "        count = 0\n",
    "        temp = self.head\n",
    "        while not(temp == None):\n",
    "            count = count + 1\n",
    "            temp = temp.get_next()\n",
    "        \n",
    "        return count\n",
    "            \n",
    "    def search(self, item): #Linked list searching for specified item\n",
    "        temp = self.head\n",
    "        found = False\n",
    "        while not(temp == None) and not (found):\n",
    "            if (temp.get_data() == item):\n",
    "                found = True\n",
    "            else:\n",
    "                temp = temp.get_next()\n",
    "                \n",
    "        return found\n",
    "        \n",
    "    def remove(self,item): #Remove an item from the linkedlist\n",
    "        temp = self.head\n",
    "        previous = None\n",
    "        found = False\n",
    "        while not(found):\n",
    "            if (temp.get_data() == item):\n",
    "                found = True\n",
    "            else:\n",
    "                previous = temp\n",
    "                temp = temp.get_next()\n",
    "        \n",
    "        if (previous == None):\n",
    "            self.head = temp.get_next()\n",
    "        else:\n",
    "            previous.set_next(temp.get_next())\n",
    "            "
   ]
  },
  {
   "cell_type": "markdown",
   "metadata": {},
   "source": [
    "SOMETHING TO NOTE: In a boolean statement, \n",
    "1. if comparing an item to the 'None' type, you cannot have the LHS call a 'get' function. Set LHS to just the variable itself (whether its a node, list, wtf ever)\n",
    "\n",
    "2. if comparing an item to another item, you MUST have the LHS call a 'get' function! See above for examples. Yes, above. "
   ]
  }
 ],
 "metadata": {
  "anaconda-cloud": {},
  "kernelspec": {
   "display_name": "Python [default]",
   "language": "python",
   "name": "python3"
  },
  "language_info": {
   "codemirror_mode": {
    "name": "ipython",
    "version": 3
   },
   "file_extension": ".py",
   "mimetype": "text/x-python",
   "name": "python",
   "nbconvert_exporter": "python",
   "pygments_lexer": "ipython3",
   "version": "3.5.2"
  }
 },
 "nbformat": 4,
 "nbformat_minor": 1
}
